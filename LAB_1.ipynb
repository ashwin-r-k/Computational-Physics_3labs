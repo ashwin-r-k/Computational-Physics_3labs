{
 "cells": [
  {
   "attachments": {},
   "cell_type": "markdown",
   "metadata": {
    "id": "XotAeJIFtp5v"
   },
   "source": [
    "# Lab 1 \n"
   ]
  },
  {
   "attachments": {},
   "cell_type": "markdown",
   "metadata": {
    "colab_type": "text",
    "id": "view-in-github"
   },
   "source": [
    "<a href=\"https://colab.research.google.com/github/ashwin-r-k/Computational-Physics_3labs/blob/main/LAB_1.ipynb\" target=\"_parent\"><img src=\"https://colab.research.google.com/assets/colab-badge.svg\" alt=\"Open In Colab\"/></a>"
   ]
  },
  {
   "cell_type": "markdown",
   "metadata": {
    "id": "hdMrNa03swwc"
   },
   "source": [
    "# Group 3:\n",
    "\n",
    "\n",
    "---\n",
    "\n",
    "Ashwin Kharat\t  \n",
    "\n"
   ]
  },
  {
   "cell_type": "code",
   "execution_count": null,
   "metadata": {
    "id": "_KAX-M2Wj4LN"
   },
   "outputs": [],
   "source": [
    "#-- This will reseted the runtime and  clear all variable.\n",
    "%reset -f\n",
    "#A new Begining\n",
    "\n",
    "#-- importing all the necessary Libraries\n",
    "import numpy as np\n",
    "from matplotlib import pyplot as plt\n",
    "import ipywidgets as widgets\n",
    "from IPython.display import display\n",
    "## --\n",
    "\n",
    "\n",
    "#-- Custome functions to make life easy.\n",
    "# g3 represent Group 3\n",
    "# g3_lable class creates a lable object which can be used with newPlot and multiPlot functions\n",
    "# g3_lable format is \n",
    "#1.  Legend of the plot that u want to make   ) \n",
    "#2. X axis lable ,  3. Y axis lable\n",
    "#3 style of line ploted \n",
    "# this can all be skiped and a defalt plot is made with defalt lable  \n",
    "\n",
    "#newPlot makes a fresh new Figure and plot taking the g3_lable \n",
    "#formate is (x values , y values , g3_lable object )\n",
    "\n",
    "# multiPlot can be used repeteadly to plot on same figure.\n",
    "#formate is (x values , y values , g3_lable object ).\n",
    "\n",
    "\n",
    "class g3_lable:      # New class to make labling easy and code smaller and reusable.\n",
    "  def __init__(self, ll = 'not specified',lx = 'x',ly ='y',style = '-'):\n",
    "    self.ll = ll    # the lable for legend\n",
    "    self.lx = lx    # x axis \n",
    "    self.ly = ly    # y axis\n",
    "    self.style = style\n",
    "\n",
    "\n",
    "def newPlot(x, y, L = g3_lable() ):\n",
    "\n",
    "  fig = plt.figure()\n",
    "  easy = fig.add_subplot(111)   \n",
    "  easy.plot( x, y,  L.style, label = L.ll )\n",
    "  easy.legend()\n",
    "  plt.xlabel( L.lx )\n",
    "  plt.ylabel( L.ly )\n",
    "  plt.show()\n",
    "\n",
    "def multiPlot(x, y, L = g3_lable() ):\n",
    "  plt.plot( x, y, L.style, label = L.ll ,alpha=0.5)\n",
    "  plt.legend()\n",
    "  plt.xlabel( L.lx )\n",
    "  plt.ylabel( L.ly )\n",
    "#--"
   ]
  },
  {
   "cell_type": "markdown",
   "metadata": {
    "id": "uWMq85y_xQKI"
   },
   "source": [
    "# Q1.\n",
    "For the radioactive decay problem discussed in class, plot the absolute difference between the numerical and analytical solutions vs time. Write down your observations from the plot - and explain the late-time characteristics."
   ]
  },
  {
   "cell_type": "markdown",
   "metadata": {
    "id": "-RMiyYvK03cQ"
   },
   "source": [
    "##Solution\n",
    "\n",
    "**Theory**\n",
    "\n",
    "Nuclear decay is process where an unstable nucleus spontaneously emits energy and decays to a daughter nuclei have a lower mass.\n",
    "\n",
    "We can find the decay equation just by thinking about it in terms of \"rate of change\" of N(t) is $-\\frac{dN(t)}{dE}$ \n",
    ",\n",
    "\n",
    "$ \\Rightarrow \\frac{d N}{dt} =-\\lambda  N(t)$\n",
    "\n",
    "The differential equation of decay problem is \n",
    "$$\\frac{d N}{dt} = -  \\frac{N(t)}{\\tau}$$\n",
    "\n",
    "and we get analytical solution as \n",
    "$$ N(t) = N_0 * e^{-\\tau t } $$"
   ]
  },
  {
   "cell_type": "code",
   "execution_count": null,
   "metadata": {
    "colab": {
     "base_uri": "https://localhost:8080/",
     "height": 388
    },
    "id": "02CSpjmH02_p",
    "outputId": "8d1235cf-d4ac-4a08-a3d6-ae0ff3177861"
   },
   "outputs": [],
   "source": [
    "tau     = 5.0    # unit if time\n",
    "N_0     = 100     # Number of Nuclei at time zero , at the begining of the system.\n",
    "dt      = 1/100   # hundreadth of a second smallest interval of time\n",
    "T_final  = tau *10 #  Time    # How far in time we want to do the measurment \n",
    "\n",
    "#dont want to talk about longtime now \n",
    "#but taking T_final 10 X longer will be more then enough for this case.\n",
    "\n",
    "# its better to not take dt in terms of tau for abstraction.\n",
    "\n",
    "t = np.arange(0, T_final+dt, dt)\n",
    "N = np.zeros(len(t))\n",
    "N[0] = N_0      # putting initial condition in the array.\n",
    "\n",
    "# this defination is used to give value of the differential equation\n",
    "def function(x,y):\n",
    "  return -y /tau\n",
    "\n",
    "# defination for solving euler equation\n",
    "def euler( x , y ,h ):\n",
    "  for i in range(len(x)-1):\n",
    "    y[i+1] = y[i] + function(x[i],y[i])*h\n",
    "  return y\n",
    "\n",
    "#analytical solution for decay problem\n",
    "def N_analytical(x,y_0):\n",
    "  return (y_0 * np.exp(-x/tau))\n",
    "\n",
    "def analytical( x , y ):\n",
    "  for i in range(len(x)-1):\n",
    "    y[i+1] = N_analytical(x[i+1],y[0])\n",
    "  return y\n",
    "\n",
    "# euler function call will creat the compleat array for number of Nuclei\n",
    "# and store in variable N \n",
    "N =  euler(t,N,dt) \n",
    "\n",
    "# making plot\n",
    "plt.figure(num=1,figsize=(10,6))\n",
    "plt.plot (t, N, 'o', label = 'numerical')\n",
    "plt.plot (t, N_0*np.exp(-t/tau), '-',label = 'analytic')\n",
    "plt.legend ()\n",
    "plt.xlabel('time')\n",
    "plt.ylabel('Number of Nuclei')\n",
    "plt.show()\n",
    "# didnt write  unit(sec) in plot to variable time as it won't have any meaning."
   ]
  },
  {
   "cell_type": "markdown",
   "metadata": {
    "id": "2JwxNW1xHwTe"
   },
   "source": [
    "\n",
    "$\\Delta N = |N_{euler} - N_{analytical} |$\n",
    "\n",
    "$\\Delta N[t] = N[t-1] - \\frac{N[t-1]}{\\tau} \\Delta t - N[t = 0]* e^{\\frac{-t}{\\tau}}   $\n",
    "\n",
    "at $t= \\tau , \\Delta N \\text{ is maximum} $\n"
   ]
  },
  {
   "cell_type": "code",
   "execution_count": null,
   "metadata": {
    "colab": {
     "base_uri": "https://localhost:8080/",
     "height": 296
    },
    "id": "e7fKZ_2uBJz1",
    "outputId": "2c102cf6-57bf-4480-9ceb-419c67816cfe"
   },
   "outputs": [],
   "source": [
    "# finding difference in numerical and analytic \n",
    "delta_N = np.absolute( N - N_0*np.exp(-t/tau) )\n",
    "delta = list(delta_N)\n",
    "print('time at max difference is t =  ',t[delta.index(max(delta))])\n",
    "\n",
    "# using custom function to lable and plot \n",
    "L = g3_lable('Difference','time ','difference in numerical and analytic n (t) ','--')\n",
    "newPlot(t , delta_N, L)\n"
   ]
  },
  {
   "cell_type": "markdown",
   "metadata": {
    "id": "FFqEnRDa-h-b"
   },
   "source": [
    "Following is a try at answer the question that sir asked \n",
    "\n",
    "why the plot shifts such maximum difference is at $Time = \\tau$  "
   ]
  },
  {
   "cell_type": "code",
   "execution_count": null,
   "metadata": {
    "colab": {
     "base_uri": "https://localhost:8080/",
     "height": 313
    },
    "id": "8TXCaEqgMG_z",
    "outputId": "5db330c9-7a9e-4897-bf67-a09a516e4dac"
   },
   "outputs": [],
   "source": [
    "delta_N_t_euler =  -N_0*np.exp(-t/tau)/tau\n",
    "delta_N_t_analytical = -t*N_0*np.exp(-t/tau)\n",
    "\n",
    "delta_N = np.absolute(N - N_0*np.exp(-t/tau) )\n",
    "del_rate = np.absolute(delta_N_t_euler - delta_N_t_analytical)\n",
    "plt.plot (t,del_rate, label = 'rate')\n",
    "\n",
    "plt.plot (t, delta_N, label = 'Difference')\n",
    "delta = list(np.absolute(delta_N))\n",
    "\n",
    "print(t[delta.index(max(delta))])\n",
    "delta = list(np.absolute(del_rate))\n",
    "print(t[delta.index(max(delta))])\n",
    "\n",
    "plt.plot (t,delta_N_t_euler,'r' ,label = 'delta_N_t_euler')\n",
    "plt.plot (t,delta_N_t_analytical,'g' ,label = 'delta_N_t_analytical')\n",
    "\n",
    "plt.legend ()\n",
    "plt.xlabel('t / sec')\n",
    "plt.ylabel('difference in numerical and analytic n  (t)')\n",
    "plt.grid(color='b', linestyle='-', linewidth=1)\n",
    "plt.show()\n"
   ]
  },
  {
   "cell_type": "code",
   "execution_count": null,
   "metadata": {
    "id": "2E0UYlKTFkCQ"
   },
   "outputs": [],
   "source": []
  },
  {
   "cell_type": "markdown",
   "metadata": {
    "id": "rQGANJy4xgqf"
   },
   "source": [
    "#Q2 \n",
    "The velocity of a freely falling object near the Earth’s surface is described by the equation $\\frac{dv}{dt} = − g$ where $g = 9.8 m/s^2$ is the acceleration due to gravity.\n",
    "\n",
    "\n",
    "1.   Use the Euler’s method to solve this differential equation to calculate the velocity of a freely falling object in the interval$ 0 < t < 10 s $, whose initial velocity at $t = 0$ is $zero$. Repeat the calculation for different values of the\n",
    "time-step $\\Delta t$.\n",
    "\n",
    "2.   It turns out that for this case, Euler’s method gives the exact result - verify with your numerical result and prove it analytically."
   ]
  },
  {
   "cell_type": "markdown",
   "metadata": {
    "id": "vHqKMNmRDlyz"
   },
   "source": [
    "## Euler’s method \n",
    "\n",
    "In practical, many first order differential equation is difficult to, or\n",
    "cannot, be solved by the analytical method. In this case Euler's method canbe used for apromimating value of first order differential equation which are  difficult to solve.\n",
    "\n",
    "We need to provided the initial condition and such problems are called initial value problem.\n",
    "\n",
    "Assume the solution for $y=y ( x) $ exist \n",
    "\n",
    "$y^{^{\\prime }} ( x) $  can\n",
    "be approxiamted by\n",
    "$\n",
    "y^{^{\\prime }}\\left( x\\right) \\approx \\frac{y\\left( x+h\\right) -y\\left(\n",
    "x\\right) }{\\left( x+h\\right) -x} $\n",
    "\n",
    "And we get Euler's method of approximation \n",
    "$$\n",
    "y ( x+h) \\approx y( x) +hy^{^{\\prime }}( x) \n",
    "$$"
   ]
  },
  {
   "cell_type": "markdown",
   "metadata": {
    "id": "NYDYSZu6Mr_w"
   },
   "source": [
    "##Part 1 : calculate the velocity of a freely falling object"
   ]
  },
  {
   "cell_type": "code",
   "execution_count": null,
   "metadata": {
    "colab": {
     "base_uri": "https://localhost:8080/",
     "height": 609
    },
    "id": "MEVzED0KosOw",
    "outputId": "402b3b75-2134-4581-fe70-01fa99791666"
   },
   "outputs": [],
   "source": [
    "\n",
    "velocity_0 = 0  #meter/sec initial condition.\n",
    "time_start = 0  #sec\n",
    "time_end   = 10 #sec\n",
    "time_step  = 1.0 /100   #sec  Hundredth of a second\n",
    "time       = np.arange(time_start, time_end + time_step, time_step)\n",
    "\n",
    "print(len(time))\n",
    "\n",
    "velocity    = np.zeros( time.size )\n",
    "velocity[0] = velocity_0\n",
    "print(len(velocity))\n",
    "\n",
    "# --- set 2 conditions\n",
    "velocity_2_0 = 0 #meter/sec initial condition.\n",
    "\n",
    "time_step_2 = 1.0 / 50   # 50th of a sec for case 2\n",
    "time_2      = np.arange(time_start, time_end + time_step, time_step_2)\n",
    "\n",
    "\n",
    "velocity_2   = np.zeros( time_2.size )\n",
    "velocity_2[0]   = velocity_2_0              \n",
    "# --- \n",
    "\n",
    "#-- New definations to make code abstract.\n",
    "\n",
    "def function(x,y): # dy/dx = -g.   # x y are just included for generality it does not needed.\n",
    "  g = 9.8 #meter/sec\n",
    "  # no need to put g here but just making sure.\n",
    "  return -g  \n",
    "\n",
    "def euler( x , y ,h ): \n",
    "  print(len(x-1))           # x y are arrays on whome euler method is applied with time step h\n",
    "  for i in range( len(x) - 1 ):   # this loop goes from the index position 1 to -2  \n",
    "    y[i+1] = y[i] + function(x[i],y[i])*h #value determined for all points in time\n",
    "  return y\n",
    "\n",
    "\n",
    "velocity = euler( time , velocity, time_step )\n",
    " \n",
    "lable1 = g3_lable('Eueler method dt = 1/100 sec','time sec','Velocity m/s','-r')\n",
    "newPlot(time, velocity, lable1 )\n",
    "#Making different plot bec they Overlap.\n",
    "#set 2 plot \n",
    "velocity_2 = euler( time_2 , velocity_2, time_step_2 )\n",
    "\n",
    "lable2 = g3_lable('Eueler method dt = 1/50 sec','time sec','Velocity m/s','o')\n",
    "newPlot(time_2, velocity_2 , lable2 )\n",
    "\n",
    "# I am not worried about the sign convention.  "
   ]
  },
  {
   "cell_type": "markdown",
   "metadata": {
    "id": "sBBCE2IF4fZo"
   },
   "source": [
    "##Part 2 Euler vs Analytical"
   ]
  },
  {
   "cell_type": "markdown",
   "metadata": {
    "id": "8kfFvpF_PitP"
   },
   "source": [
    "Proof.\n",
    "\n",
    "![proof.jpeg](data:image/jpeg;base64,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)\n",
    "\n",
    "Summation of $h$ over the compleat interval is the total Time leaving one element "
   ]
  },
  {
   "cell_type": "code",
   "execution_count": null,
   "metadata": {
    "colab": {
     "base_uri": "https://localhost:8080/",
     "height": 347
    },
    "id": "0u_Wmx9w4ky8",
    "outputId": "dd9b29f0-6930-4a46-f17b-3bcf31e4ee83"
   },
   "outputs": [],
   "source": [
    "velocity_0 = 0  #meter/sec initial condition.\n",
    "time_start = 0  #sec\n",
    "time_end   = 10 #sec\n",
    "time_step  = 1.0 /100   #sec  Hundredth of a second\n",
    "time       = np.arange(time_start, time_end + time_step, time_step)\n",
    "\n",
    "velocity    = np.zeros( time.size )\n",
    "velocity[0] = velocity_0\n",
    "\n",
    "velocity_analytical     = np.zeros( time.size )\n",
    "velocity_analytical [0] = velocity_0\n",
    "\n",
    "\n",
    "def function(x,y): # dy/dx = -g.   # x y are just included for generality it does not needed.\n",
    "  g = 9.8 #meter/sec\n",
    "  return -g  \n",
    "\n",
    "def analytical( x , y ,y0):    \n",
    "  g = 9.8 #meter/sec\n",
    "  y = -g * x + y0\n",
    "  return y\n",
    "\n",
    "\n",
    "velocity     = euler( time , velocity, time_step )\n",
    "lable1       = g3_lable('Eueler method ','time (sec)','Velocity (m/s)','--')\n",
    "multiPlot(time, velocity, lable1 )\n",
    "\n",
    "velocity_analytical = analytical(time , velocity_analytical, velocity_0 )\n",
    "lable2              = g3_lable('Analytical method' ,'time sec','Velocity m/s',':k')\n",
    "multiPlot(time, velocity_analytical, lable2 )\n",
    "\n",
    "lable3         = g3_lable('Difference in Analytical and Eueler ','time (sec)','Velocity (m/s)','--r')\n",
    "delta_velocity = velocity - velocity_analytical\n",
    "multiPlot(time, delta_velocity , lable3 )\n",
    "\n",
    "if delta_velocity.max() < pow(10,-6):\n",
    "  print(\"To Notice The value of difference is very small  = {0} \".format(delta_velocity.max()))\n",
    "  print(\"The Analytical and Eueler euler value overlap\")\n",
    "  # this happened bec in euler method we are using delta time and the internal rounding off by Python.\n",
    "\n",
    "plt.plot()\n"
   ]
  },
  {
   "cell_type": "markdown",
   "metadata": {
    "id": "zK0GN_JYyUZI"
   },
   "source": [
    "# Q3\n",
    "It is often the case that frictional forces on an object increases as the object moves faster. For a parachutist, this is fortunate. The air drag allows the parachutist to land safely. Consider a simple example where the frictional force depends only on the velocity. Assume that the velocity of the object obeys an equation of the form\n",
    "$\\frac{dv}{dt} = g − \\alpha v $, where $g = 9.8 m/s^22$ is the acceleration due to gravity and $\\alpha$ is the frictional drag coefficient.\n",
    "1. From physical considerations, what can you say about the sign of $\\alpha$ ?\n",
    "2. For the various value of $\\alpha = 1, 1.5, 2.0 ,$ etc. show that a freely falling object\n",
    "approaches a constant velocity after long-times.\n",
    "3. As a physicist, how would you quantify ‘long-time’ - long as compared to\n",
    "what? In other words, can you think of a typical time-scale in the problem?\n",
    "4. In class, we have discussed using typical ‘scales’ in the problem to adimensionalize ​a given differential equation. Can you think of the different time and velocity scales in this problem and re-cast the given differential equation in dimensionless variables? Re-do the numerical solution and plot it in these new coordinates, and interpret your result."
   ]
  },
  {
   "cell_type": "markdown",
   "metadata": {
    "id": "Vqx4Mpz_E-F8"
   },
   "source": [
    "##Part 1. Sign of $\\alpha $\n",
    "\n",
    "First lets decide the sign convention  Vectores toward ground is +ve so $\\vec{g} \\text{ is } +ve$ (dosent matter for alpha)\n",
    "\n",
    "$\\vec{g} = +9.8 m/s $\n",
    "\n",
    "$\\alpha $ is always positive.\n",
    "\n",
    "When an object in and fluid has any velocity irespective of it direction the drag force will alway be antiparallel to its velocity. \n"
   ]
  },
  {
   "cell_type": "markdown",
   "metadata": {
    "id": "D7FzvxMWJHXt"
   },
   "source": [
    "$$\\frac{d v }{dt} = g -\\alpha v$$\n",
    "\n",
    "$$v(t) =  = \\frac{g}{\\alpha} + \\left(  v(t=0) - \\frac{g}{\\alpha}  \\right) e^ { - \\alpha t} $$"
   ]
  },
  {
   "cell_type": "markdown",
   "metadata": {
    "id": "16slWwVMVNMj"
   },
   "source": [
    "##Part 2. various value of $\\alpha$"
   ]
  },
  {
   "cell_type": "code",
   "execution_count": null,
   "metadata": {
    "colab": {
     "base_uri": "https://localhost:8080/",
     "height": 330
    },
    "id": "bb0lPa4mzG3l",
    "outputId": "aeb64961-3abd-4532-d49a-d1e421043732"
   },
   "outputs": [],
   "source": [
    "#-- initial Conditions\n",
    "g        = 9.8   #m/s\n",
    "alpha    = 1.0\n",
    "alpha2   = 1.5\n",
    "alpha3   = 2.0\n",
    "\n",
    "velocity_0 = 0  #meter/sec initial condition.\n",
    "# \n",
    "\n",
    "time_start = 0  #sec\n",
    "time_end   = 10 #sec\n",
    "time_step  = 1.0 /100   #sec  Hundredth of a second\n",
    "time       = np.arange(time_start, time_end + time_step, time_step)\n",
    "\n",
    "velocity    = np.zeros( time.size )\n",
    "velocity[0] = velocity_0\n",
    "\n",
    "def function(t,v,alpha_i):\n",
    "  temp = g - alpha_i * v\n",
    "  return temp\n",
    "\n",
    "def euler( x , y ,h ,alpha_i):\n",
    "  for i in range(len(x)-1):\n",
    "    y[i+1] = y[i] + function(x[i],y[i],alpha_i)*h\n",
    "  return y\n",
    "\n",
    "# following iss plot for cases by case basis \n",
    "\n",
    "velocity = euler( time , velocity, time_step ,alpha)\n",
    "lable1 = g3_lable('Eueler method alpha = {0}'.format(alpha),'time (sec)','Velocity (m/s)','--')\n",
    "multiPlot(time, velocity, lable1 )\n",
    "print('Terminal velocity  for  alpha = {1}  is  {0} m/s'.format( round(velocity[-1],2) ,alpha))\n",
    "\n",
    "velocity = euler( time , velocity, time_step ,alpha2)\n",
    "lable2 = g3_lable('Eueler method alpha = {0}'.format(alpha2),'time (sec)','Velocity (m/s)','--')\n",
    "multiPlot(time, velocity, lable2 )\n",
    "print('Terminal velocity  for  alpha = {1}  is  {0} m/s'.format( round(velocity[-1],2) ,alpha2))\n",
    "\n",
    "velocity = euler( time , velocity, time_step ,alpha3)\n",
    "lable3 = g3_lable('Eueler method alpha = {0}'.format(alpha3),'time (sec)','Velocity (m/s)','--')\n",
    "multiPlot(time, velocity, lable3 )\n",
    "print('Terminal velocity  for  alpha = {1}  is  {0} m/s'.format( round(velocity[-1],2) ,alpha3))\n",
    "\n",
    "plt.show()"
   ]
  },
  {
   "cell_type": "markdown",
   "metadata": {
    "id": "-OMZU-qhxepK"
   },
   "source": [
    "###Interactive"
   ]
  },
  {
   "cell_type": "code",
   "execution_count": null,
   "metadata": {
    "colab": {
     "base_uri": "https://localhost:8080/",
     "height": 343,
     "referenced_widgets": [
      "cba2283e5dc543599310bd092d7ee008",
      "494d6159d79d46c2b4167f9084000ae2",
      "3c86d7c7392e40b7aea47c28a642b84c",
      "4c3b6a66d800407eace5a53e1d26dcc2",
      "8b9d77c8ce564a30a5aba1954876fa8f",
      "20d0230cc02c402eb9660db0038dd3cd",
      "959c626cfa574df3ac6cfbf61d7d8e8b",
      "5bb7aee21c884d968446b1d6ef7217f9",
      "7461d1ae9ff84ac5a5062f096b462a39",
      "93850d8f61ba4d03bae89be843eb6d3a"
     ]
    },
    "id": "m39D2fd3QRmz",
    "outputId": "7b992c65-ce03-406f-cd5a-1fd7e975671f"
   },
   "outputs": [],
   "source": [
    "# This is an interactive plot for air drag equation.\n",
    "# The interactive widgets might not work properly somtimes\n",
    "# but reRuning same seems to resolve the  problem \n",
    "# error is bec of the same variable is also used in other cells and being intractive its active.\n",
    "\n",
    "# their is no need to do this initialization for velocity.\n",
    "velocity_0 = 0  #meter/sec initial condition.\n",
    "time_start = 0  #sec\n",
    "time_end   = 50 #sec\n",
    "time_step  = 1.0 /100   #sec  Hundredth of a second\n",
    "\n",
    "g = 9.8 # m/s\n",
    "\n",
    "time       = np.arange(time_start, time_end + time_step, time_step)\n",
    "velocity    = np.zeros( time.size )\n",
    "velocity[0] = velocity_0\n",
    "\n",
    "def function(t,v,alpha_i):\n",
    "  temp = g - alpha_i * v\n",
    "  return temp\n",
    "\n",
    "def euler( x , y ,h ,alpha_i):\n",
    "  for i in range(len(x)-1):\n",
    "    y[i+1] = y[i] + function(x[i],y[i],alpha_i)*h\n",
    "  return y\n",
    "\n",
    "# This function is trigered / runs when the value of the slider is changed.\n",
    "def update_plot(alpha,velocity_Zero):\n",
    "  velocity    = np.zeros( time.size )\n",
    "  velocity[0] = velocity_Zero\n",
    "  velocity = euler( time , velocity, time_step,alpha )\n",
    "  lable1 = g3_lable('For alpha = {0} \\n V(t=0) = {1} \\n Terminal Velocity = {2} m/s '.format(alpha,velocity_Zero , round(velocity[-1],2) ),'time (sec)','Velocity (m/s)','--')\n",
    "  newPlot(time, velocity, lable1 )\n",
    "  plt.show()\n",
    "\n",
    "#making slider for alpha , and initial velocity\n",
    "alpha = widgets.FloatSlider(min=0, max=10, value=0,step = 0.1 , description = 'alpha : ')\n",
    "velocity_Zero = widgets.FloatSlider(min= -50, max=50, value=0,step = 5 , description = 'Initial velocity : ')\n",
    "\n",
    "#Starting the intractive session\n",
    "widgets.interactive(update_plot,alpha = alpha, velocity_Zero = velocity_Zero)\n"
   ]
  },
  {
   "cell_type": "markdown",
   "metadata": {
    "id": "nMpSd9jrpmzb"
   },
   "source": [
    "##Part 3. Long - time."
   ]
  },
  {
   "cell_type": "markdown",
   "metadata": {
    "id": "k2XeEC93dpP6"
   },
   "source": [
    "The time scale is easy tosee in the dimensionless part.\n",
    "\n",
    "after the dimensionless $\\tau > 5 $ the body has almost reached its terminal velocity\n",
    "and the scalling factor is $\\frac{1}{\\alpha}$\n",
    "\n",
    "so the tipical time scale is like the body attends terminal velocity in $$\\frac{ (4 \\text{ to }  6)}{ \\alpha} \\text{ seconds }$$"
   ]
  },
  {
   "cell_type": "markdown",
   "metadata": {
    "id": "MM3hxSTduiuM"
   },
   "source": [
    "Long term is indeed a subjective term,\n",
    "\n",
    "But if we are observing a specific system we can subjectively define a long time when the variable we are observing is defined well or what follows is obvious like in the case of the freely falling body we know the speed will keep increasing (in a vacuum) under gravity, here we are only concerned about how the velocity increases or our interest is to calculate this with Euler method that is completed so we will not observe it for more than 10-sec eas we know that velocity will keep increasing until it hits earth surface, but see we don't need to keep measuring velocity until it hits surface because we are not interested in that part.\n",
    "\n",
    "Following might be wrong .\n",
    "\"I will stop doing observation if the values, In last 10 percent of the time (wrt total time observed) had just increased 1 percent( wrt total change). Or something like to compare the rate of change (of what we interested) with log base e.\n",
    ", is this long time ?\n",
    "No ,\n",
    "That what I would say if i am bored I won't do more observation \"\n",
    "\n",
    "by one of our team member .\n",
    "\n",
    "\n"
   ]
  },
  {
   "cell_type": "markdown",
   "metadata": {
    "id": "war_ff7zZJQk"
   },
   "source": [
    "##Part 4.  Non Dimensionalization."
   ]
  },
  {
   "cell_type": "markdown",
   "metadata": {
    "id": "MTO5h-LojaJv"
   },
   "source": [
    "To Make $\\frac{dv}{dt}=g - \\alpha v$ dimensionless\n",
    "\n",
    "Variables:      $v$,    $t$\n",
    "parameter: $g$, $\\alpha$\n",
    "\n",
    "Let $u = \\frac{v}{W_0} $ and $ \\tau = t / T_0$\n",
    "\n",
    "substituting this value in $\\frac{dv}{dt}=g - \\alpha v$\n",
    "\n",
    "as $v = u W_0 $  $t = \\tau T_0 $\n",
    "\n",
    "$\\frac{d uW_0}{d\\tau T_0} = g - \\alpha u W_0$\n",
    "\n",
    "$\\frac{d u}{d\\tau } = \\frac{T_0 g}{W+0} - T_0 \\alpha u W_0$\n",
    "\n",
    "\n",
    "Let $ T_0 \\alpha = 1$\n",
    "\n",
    "$\\Rightarrow T_0 = \\frac{1}{\\alpha}$ \n",
    "\n",
    "Let $  \\frac{T_0}{W_0} g  = 1$\n",
    "\n",
    "$ W_0 = T_0 h$ \n",
    "\n",
    "$\\Rightarrow W_0 = \\frac{g}{\\alpha}$ \n",
    "\n",
    "So the New Differential Equation is \n",
    "$$\\frac{du}{d \\tau} = 1- u $$\n",
    "\n",
    "scalling factors \n",
    "$$v = \\frac{g}{\\alpha} u , t = \\frac{1}{\\alpha} \\tau $$"
   ]
  },
  {
   "cell_type": "code",
   "execution_count": null,
   "metadata": {
    "colab": {
     "base_uri": "https://localhost:8080/",
     "height": 559
    },
    "id": "MA3jqDCgZIoe",
    "outputId": "e68e294e-8ebe-48e3-903a-14e882609e10"
   },
   "outputs": [],
   "source": [
    "g        = 9.8 # m/s\n",
    "alpha    = 2.0\n",
    "\n",
    "T_not  =  1/alpha # t0 = 1/alpha This is scalling factor for time\n",
    "W_not  =  g/alpha # Scalling factor for velocity\n",
    "\n",
    "#T his is non dim variable U_velocity and Tau_t\n",
    "U_velocity_0 = 0\n",
    "Tau_t_start = 0  \n",
    "Tau_t_final   = 10\n",
    "Tau_t_step  = 1.0 /100   #sec  Hundredth of a second\n",
    "Tau_t       = np.arange(Tau_t_start, Tau_t_final + Tau_t_step, Tau_t_step)\n",
    "\n",
    "U_velocity    = np.zeros( Tau_t.size )\n",
    "U_velocity[0] = U_velocity_0\n",
    "\n",
    "def function(v):\n",
    "  #temp = 1 - 1 * v\n",
    "  return 1 - 1 * v\n",
    "\n",
    "def euler( x , y ,h ):\n",
    "  for i in range(len(x)-1):\n",
    "    y[i+1] = y[i] + function(y[i])*h\n",
    "  return y\n",
    "\n",
    "U_velocity = euler( Tau_t , U_velocity, Tau_t_step)\n",
    "\n",
    "lable1 = g3_lable('Euler method with Non dimension ','Tau_t','U_velocity ','--')\n",
    "multiPlot(Tau_t, U_velocity, lable1 )\n",
    "\n",
    "\n",
    "lable2 = g3_lable('Eueler method with Non dimension ','time (sec)','velocity (m/s)','--')\n",
    "# plot with scalling factors\n",
    "newPlot(Tau_t * T_not , U_velocity * W_not, lable2 )\n",
    "\n",
    "print('Terminal velocity  for  alpha = {1}  is  {0} m/s'.format( round(U_velocity[-1] * W_not,2) ,alpha))\n",
    "\n"
   ]
  },
  {
   "cell_type": "markdown",
   "metadata": {
    "id": "7dj-OTRazIsY"
   },
   "source": [
    "#Q4\n",
    "Consider a radioactive decay problem involving two types of radioactive nuclei - A and B with populations $N_A (t) $ and $N_B (t)$ . Suppose type A nuclei decay to form type B nuclei, which then also decay according to the differential equations.\n",
    "\n",
    "$\\frac{d N_A(t)}{dt} = -\\frac{N_A(t)}{\\tau} $ \n",
    "\n",
    "$\\frac{d N_B(t)}{dt} = \\frac{N_A(t)}{\\tau_A} -\\frac{N_B(t)}{\\tau_B}$\n",
    "\n",
    "where $\\tau_A $ & $\\tau_B$ and are the decay time constants for each type of nucleus.\n",
    "\n",
    "1. Use the Euler method to solve these coupled equations for $N_A(t)$ and $N_B(t)$\n",
    "2.  Obtain an analytic solution for $N (t)$ and and compare them with your numerical result.\n",
    "3. It is interesting to explore the behaviour found for different values of the ratio\n",
    "$\\frac{\\tau_A}{\\tau_B}$ . In particular, try to interpret the short and long time behaviour for different values of this ratio."
   ]
  },
  {
   "cell_type": "markdown",
   "metadata": {
    "id": "yb2PLW6nAJYS"
   },
   "source": [
    "##Part 1. Coupled Equations.\n",
    "$\\frac{d N_A(t)}{dt} = -\\frac{N_A(t)}{\\tau} $ \n",
    "\n",
    "$\\frac{d N_B(t)}{dt} = \\frac{N_A(t)}{\\tau_A} -\\frac{N_B(t)}{\\tau_B}$\n"
   ]
  },
  {
   "cell_type": "code",
   "execution_count": null,
   "metadata": {
    "colab": {
     "base_uri": "https://localhost:8080/",
     "height": 296
    },
    "id": "YG81g7FJAIZl",
    "outputId": "48f40a26-3e77-4cf1-afee-94c87f13e541"
   },
   "outputs": [],
   "source": [
    "#Defining the initial conditions.\n",
    "\n",
    "N_A0,   N_B0      = 100,  0\n",
    "tauA,   tauB      = 1  ,  3 \n",
    "\n",
    "t0, T_final = 0, 10\n",
    "dt         = 0.01\n",
    "\n",
    "#--\n",
    "# Defining the variables. \n",
    "time  = np.arange(t0, T_final+dt, dt)\n",
    "\n",
    "N_A = np.zeros(time.size)\n",
    "N_B = np.zeros(time.size)\n",
    "N_A[0], N_B[0] = N_A0 , N_B0\n",
    "\n",
    "#ODE for parent nuclei\n",
    "def ode_A(y):\n",
    "  return -y /tauA\n",
    "\n",
    "#ODE for daughter nuclei\n",
    "def ode_B(y,y2):\n",
    "  return y /tauA - y2 /tauB\n",
    "\n",
    "def euler( x , y , y2 ,h ):\n",
    "  for i in range(len(x)-1):\n",
    "    y[i+1] = y[i] + ode_A( y[i] )*h\n",
    "    y2[i+1] = y2[i] + ode_B(y[i], y2[i] )*h\n",
    "  return y,y2\n",
    "\n",
    "#Getting numbers of both nuclei by solving ode\n",
    "N_A, N_B = euler(time, N_A, N_B ,dt )\n",
    "\n",
    "# following is Plot\n",
    "\n",
    "lable1 = g3_lable('Tau = {0}'.format(tauA),'time (sec)','Number of nuclei','b+')\n",
    "multiPlot(time, N_A, lable1 )\n",
    "\n",
    "lable2 = g3_lable(' Tau = {0}'.format(tauB),'time (sec)','Number of nuclei ','or')\n",
    "multiPlot(time, N_B, lable2 )\n",
    "plt.plot()"
   ]
  },
  {
   "cell_type": "markdown",
   "metadata": {
    "id": "c3v6CVse7S0x"
   },
   "source": [
    "##Part 2. analytic solution for  $𝑁(𝑡)$"
   ]
  },
  {
   "cell_type": "code",
   "execution_count": null,
   "metadata": {
    "colab": {
     "base_uri": "https://localhost:8080/",
     "height": 851
    },
    "id": "dJ8U3b-L7g03",
    "outputId": "06899a6f-55f8-4a08-f3ba-ba33bff00087"
   },
   "outputs": [],
   "source": [
    "# the Code currently suports the Daughter nuclie initial population zero.\n",
    "#N_B0 =0 compulsory only for analytical solution.\n",
    "\n",
    "N_A0,   N_B0      = 100,  0\n",
    "tauA,   tauB      = 1  ,  3 \n",
    "\n",
    "t0, T_final = 0, 10\n",
    "dt         = 0.1\n",
    "\n",
    "#--\n",
    "# Defining the variables. \n",
    "time  = np.arange(t0, T_final+dt, dt)\n",
    "\n",
    "N_A = np.zeros(time.size)\n",
    "N_B = np.zeros(time.size)\n",
    "N_A[0], N_B[0] = N_A0 , N_B0\n",
    "\n",
    "N_A_analytical = np.zeros(time.size)\n",
    "N_B_analytical = np.zeros(time.size)\n",
    "N_A_analytical[0] = N_A0 \n",
    "N_B_analytical[0] = N_B0\n",
    "\n",
    "\n",
    "#ODE for parent nuclei\n",
    "def ode_A(y):\n",
    "  return -y /tauA\n",
    "\n",
    "#ODE for daughter nuclei\n",
    "def ode_B(y,y2):\n",
    "  return y /tauA - y2 /tauB\n",
    "\n",
    "#analytical solution N_A\n",
    "def NA_analytical(x,y_0):\n",
    "  return (y_0 * np.exp(-x/tauA))\n",
    "\n",
    "#analytical solution N_B\n",
    "def NB_analytical(x,y_0):\n",
    "  temp = tauB/(tauA - tauB) * y_0*(np.exp(-x/tauA)-np.exp(-x/tauB))\n",
    "  return temp\n",
    "\n",
    "# this function is not implimented as this needs to be corrected.\n",
    "def NB_non0_analytical(t,y1_0,y2_0):\n",
    "  \n",
    "  temp = tauA * y2_0 * np.exp(-t/tauB) \n",
    "  temp = temp + tauB*( y1_0 * np.exp(-t/tauA ) - np.exp(-t / tauB) )\n",
    "  temp = temp / (tauA-tauB )\n",
    "\n",
    "  return temp\n",
    "\n",
    "def euler( x , y , y2 ,h ):\n",
    "  for i in range(len(x)-1):\n",
    "    y[i+1] = y[i] + ode_A( y[i] )*h\n",
    "    y2[i+1] = y2[i] + ode_B(y[i], y2[i] )*h\n",
    "  return y,y2\n",
    "\n",
    "#Getting numbers of both nuclei by solving ode\n",
    "N_A, N_B = euler(time, N_A, N_B ,dt )\n",
    "\n",
    "N_A_analytical = NA_analytical(time,N_A0)\n",
    "N_B_analytical = NB_analytical(time, N_A0 )\n",
    "#N_B_analytical = NB_non0_analytical(time , N_A0 , N_B0)\n",
    "\n",
    "# following is Plot for euler\n",
    "lable1 = g3_lable('Tau = {0}'.format(tauA),'time (sec)','Number of nuclei','b+')\n",
    "multiPlot(time, N_A, lable1 )\n",
    "  \n",
    "lable2 = g3_lable(' Tau = {0}'.format(tauB),'time (sec)','Number of nuclei ','or')\n",
    "multiPlot(time, N_B, lable2 )\n",
    "\n",
    "plt.title(\"Solution by Euler method\")\n",
    "#this will end the current instanceof multiplot.\n",
    "plt.show()\n",
    "\n",
    "# following is Plot for numerical\n",
    "lable1 = g3_lable('Tau = {0}'.format(tauA),'time (sec)','Number of nuclei','b+')\n",
    "multiPlot(time, N_A_analytical, lable1 )\n",
    "  \n",
    "lable2 = g3_lable(' Tau = {0}'.format(tauB),'time (sec)','Number of nuclei ','or')\n",
    "multiPlot(time, N_B_analytical, lable2 )\n",
    "plt.title(\"Solution by Analytical method\")\n",
    "plt.show()\n",
    "\n",
    "Difference_N_A = N_A_analytical - N_A \n",
    "Difference_N_B = N_B_analytical - N_B\n",
    "\n",
    "lable1 = g3_lable('Tau = {0}'.format(tauA),'time (sec)','Number of nuclei','--')\n",
    "multiPlot(time, Difference_N_A, lable1 )\n",
    "plt.title(\"Diference in  Analytical and Numerical\")\n",
    "\n",
    "lable2 = g3_lable(' Tau = {0}'.format(tauB),'time (sec)','Number of nuclei ','--r')\n",
    "multiPlot(time, Difference_N_B, lable2 )\n",
    "\n",
    "\n"
   ]
  },
  {
   "cell_type": "markdown",
   "metadata": {
    "id": "hIoBGCbvNmay"
   },
   "source": [
    "##Part 3.  behaviour found for different values of the ratio"
   ]
  },
  {
   "cell_type": "code",
   "execution_count": null,
   "metadata": {
    "colab": {
     "base_uri": "https://localhost:8080/",
     "height": 391,
     "referenced_widgets": [
      "8379064a4d5e47de989312346efbfb7c",
      "6c6498b3852d49699ed804c420794195",
      "098ffca1642342aaae9ec8070e01ad2a",
      "a7ee667a874f4afeb3c96255f7b2de4f",
      "bbae2b4436974444bff91e1965b90bde",
      "cf478a4f12704700b8cac9d20bd8e552",
      "b09bd3b114014a2481dddaf12073e62e",
      "12a09f2bd63e4eadadbfa05d4a324612",
      "6764aebe0b5e4e2f84f0fd6b47853001",
      "bb024349208f4963bf0ac6f1bd460fbc",
      "693fbb89583e4526b4ffe86c8b261261",
      "76c2ee4d3fd046e6bea042e87a9b5e09",
      "6dd57692527341eb81fcfa65bf3c880c"
     ]
    },
    "id": "30TaCyO6N1LB",
    "outputId": "46adc7c6-11e9-426e-a342-d68ac7800841"
   },
   "outputs": [],
   "source": [
    "\n",
    "N_A0,   N_B0  = 100,  0\n",
    "t0, T_final    = 0, 10\n",
    "\n",
    "dt = 0.1\n",
    "# \n",
    "\n",
    "tauA,tauB     = 1  ,  3 \n",
    "\n",
    "#--\n",
    "# Defining the variables. \n",
    "time  = np.arange(t0, T_final+dt, dt)\n",
    "\n",
    "N_A = np.zeros(time.size)\n",
    "N_B = np.zeros(time.size)\n",
    "N_A[0], N_B[0] = N_A0 , N_B0\n",
    "\n",
    "#definations made for interactive plot.\n",
    "\n",
    "def eulerI( x , y , y2 ,h ):\n",
    "  for i in range(len(x)-1):\n",
    "    y[i+1] = y[i] + ode_AI( y[i] )*h\n",
    "    y2[i+1] = y2[i] + ode_BI(y[i], y2[i] )*h\n",
    "  return y,y2\n",
    "\n",
    "def ode_AI(y):\n",
    "  return -y /tauA_interactive.value\n",
    "\n",
    "#ODE for daughter nuclei\n",
    "def ode_BI(y,y2):\n",
    "  return y /tauA_interactive.value - y2 /tauB_interactive.value\n",
    "\n",
    "\n",
    "def update_plot(tauA,tauB,NB_initial):\n",
    "  N_A = np.zeros(time.size)\n",
    "  N_B = np.zeros(time.size)\n",
    "  N_A[0], N_B[0] = N_A0 , NB_initial\n",
    "  N_A, N_B = eulerI(time, N_A, N_B ,dt )\n",
    "  \n",
    "  lable1 = g3_lable('Tau A = {0}'.format(tauA),'time (sec)','Number of nuclei','b+')\n",
    "  multiPlot(time, N_A, lable1 )\n",
    "  \n",
    "  lable2 = g3_lable(' Tau B = {0}'.format(tauB),'time (sec)','Number of nuclei ','or')\n",
    "  multiPlot(time, N_B, lable2 )\n",
    "  plt.title(' Solution by Euler methot for tauA / tauB  = {0}'.format(tauA/tauB))\n",
    "  plt.show()\n",
    "\n",
    "#making slider for alpha , and initial velocity\n",
    "tauA_interactive = widgets.FloatSlider(min=0, max=10, value=1,step = 0.5 , description = 'Tau A : ')\n",
    "tauB_interactive = widgets.FloatSlider(min= 0, max=10, value=3,step = 0.5 , description = 'Tau B  : ')\n",
    "\n",
    "NB_interactive = widgets.FloatSlider(min= 0, max=100, value=0 ,step = 5  , description = 'Initial N B   : ')\n",
    "\n",
    "\n",
    "#Starting the intractive session\n",
    "widgets.interactive(update_plot,tauA = tauA_interactive, tauB =tauB_interactive,NB_initial = NB_interactive)\n",
    "\n",
    "\n"
   ]
  },
  {
   "attachments": {},
   "cell_type": "markdown",
   "metadata": {},
   "source": [
    "# The End Open Lab 2 \n",
    "https://github.com/ashwin-r-k/Computational-Physics_3labs/blob/main/LAB_2.ipynb"
   ]
  }
 ],
 "metadata": {
  "colab": {
   "authorship_tag": "ABX9TyMkpZKU5ZmPz2px396rruBo",
   "collapsed_sections": [],
   "include_colab_link": true,
   "name": "LAB 1.ipynb",
   "provenance": [],
   "toc_visible": true
  },
  "kernelspec": {
   "display_name": "base",
   "language": "python",
   "name": "python3"
  },
  "language_info": {
   "codemirror_mode": {
    "name": "ipython",
    "version": 3
   },
   "file_extension": ".py",
   "mimetype": "text/x-python",
   "name": "python",
   "nbconvert_exporter": "python",
   "pygments_lexer": "ipython3",
   "version": "3.9.15 (main, Nov  4 2022, 16:13:54) \n[GCC 11.2.0]"
  },
  "vscode": {
   "interpreter": {
    "hash": "062bfe54a6f961fe54321b0e2590ae53911b7bd2fbf82cc9ab25083f78d47c34"
   }
  },
  "widgets": {
   "application/vnd.jupyter.widget-state+json": {
    "098ffca1642342aaae9ec8070e01ad2a": {
     "model_module": "@jupyter-widgets/controls",
     "model_name": "FloatSliderModel",
     "state": {
      "_dom_classes": [],
      "_model_module": "@jupyter-widgets/controls",
      "_model_module_version": "1.5.0",
      "_model_name": "FloatSliderModel",
      "_view_count": null,
      "_view_module": "@jupyter-widgets/controls",
      "_view_module_version": "1.5.0",
      "_view_name": "FloatSliderView",
      "continuous_update": true,
      "description": "Tau A : ",
      "description_tooltip": null,
      "disabled": false,
      "layout": "IPY_MODEL_12a09f2bd63e4eadadbfa05d4a324612",
      "max": 10,
      "min": 0,
      "orientation": "horizontal",
      "readout": true,
      "readout_format": ".2f",
      "step": 0.5,
      "style": "IPY_MODEL_b09bd3b114014a2481dddaf12073e62e",
      "value": 1
     }
    },
    "12a09f2bd63e4eadadbfa05d4a324612": {
     "model_module": "@jupyter-widgets/base",
     "model_name": "LayoutModel",
     "state": {
      "_model_module": "@jupyter-widgets/base",
      "_model_module_version": "1.2.0",
      "_model_name": "LayoutModel",
      "_view_count": null,
      "_view_module": "@jupyter-widgets/base",
      "_view_module_version": "1.2.0",
      "_view_name": "LayoutView",
      "align_content": null,
      "align_items": null,
      "align_self": null,
      "border": null,
      "bottom": null,
      "display": null,
      "flex": null,
      "flex_flow": null,
      "grid_area": null,
      "grid_auto_columns": null,
      "grid_auto_flow": null,
      "grid_auto_rows": null,
      "grid_column": null,
      "grid_gap": null,
      "grid_row": null,
      "grid_template_areas": null,
      "grid_template_columns": null,
      "grid_template_rows": null,
      "height": null,
      "justify_content": null,
      "justify_items": null,
      "left": null,
      "margin": null,
      "max_height": null,
      "max_width": null,
      "min_height": null,
      "min_width": null,
      "object_fit": null,
      "object_position": null,
      "order": null,
      "overflow": null,
      "overflow_x": null,
      "overflow_y": null,
      "padding": null,
      "right": null,
      "top": null,
      "visibility": null,
      "width": null
     }
    },
    "20d0230cc02c402eb9660db0038dd3cd": {
     "model_module": "@jupyter-widgets/controls",
     "model_name": "SliderStyleModel",
     "state": {
      "_model_module": "@jupyter-widgets/controls",
      "_model_module_version": "1.5.0",
      "_model_name": "SliderStyleModel",
      "_view_count": null,
      "_view_module": "@jupyter-widgets/base",
      "_view_module_version": "1.2.0",
      "_view_name": "StyleView",
      "description_width": "",
      "handle_color": null
     }
    },
    "3c86d7c7392e40b7aea47c28a642b84c": {
     "model_module": "@jupyter-widgets/controls",
     "model_name": "FloatSliderModel",
     "state": {
      "_dom_classes": [],
      "_model_module": "@jupyter-widgets/controls",
      "_model_module_version": "1.5.0",
      "_model_name": "FloatSliderModel",
      "_view_count": null,
      "_view_module": "@jupyter-widgets/controls",
      "_view_module_version": "1.5.0",
      "_view_name": "FloatSliderView",
      "continuous_update": true,
      "description": "alpha : ",
      "description_tooltip": null,
      "disabled": false,
      "layout": "IPY_MODEL_959c626cfa574df3ac6cfbf61d7d8e8b",
      "max": 10,
      "min": 0,
      "orientation": "horizontal",
      "readout": true,
      "readout_format": ".2f",
      "step": 0.1,
      "style": "IPY_MODEL_20d0230cc02c402eb9660db0038dd3cd",
      "value": 0
     }
    },
    "494d6159d79d46c2b4167f9084000ae2": {
     "model_module": "@jupyter-widgets/base",
     "model_name": "LayoutModel",
     "state": {
      "_model_module": "@jupyter-widgets/base",
      "_model_module_version": "1.2.0",
      "_model_name": "LayoutModel",
      "_view_count": null,
      "_view_module": "@jupyter-widgets/base",
      "_view_module_version": "1.2.0",
      "_view_name": "LayoutView",
      "align_content": null,
      "align_items": null,
      "align_self": null,
      "border": null,
      "bottom": null,
      "display": null,
      "flex": null,
      "flex_flow": null,
      "grid_area": null,
      "grid_auto_columns": null,
      "grid_auto_flow": null,
      "grid_auto_rows": null,
      "grid_column": null,
      "grid_gap": null,
      "grid_row": null,
      "grid_template_areas": null,
      "grid_template_columns": null,
      "grid_template_rows": null,
      "height": null,
      "justify_content": null,
      "justify_items": null,
      "left": null,
      "margin": null,
      "max_height": null,
      "max_width": null,
      "min_height": null,
      "min_width": null,
      "object_fit": null,
      "object_position": null,
      "order": null,
      "overflow": null,
      "overflow_x": null,
      "overflow_y": null,
      "padding": null,
      "right": null,
      "top": null,
      "visibility": null,
      "width": null
     }
    },
    "4c3b6a66d800407eace5a53e1d26dcc2": {
     "model_module": "@jupyter-widgets/controls",
     "model_name": "FloatSliderModel",
     "state": {
      "_dom_classes": [],
      "_model_module": "@jupyter-widgets/controls",
      "_model_module_version": "1.5.0",
      "_model_name": "FloatSliderModel",
      "_view_count": null,
      "_view_module": "@jupyter-widgets/controls",
      "_view_module_version": "1.5.0",
      "_view_name": "FloatSliderView",
      "continuous_update": true,
      "description": "Initial velocity : ",
      "description_tooltip": null,
      "disabled": false,
      "layout": "IPY_MODEL_7461d1ae9ff84ac5a5062f096b462a39",
      "max": 50,
      "min": -50,
      "orientation": "horizontal",
      "readout": true,
      "readout_format": ".2f",
      "step": 5,
      "style": "IPY_MODEL_5bb7aee21c884d968446b1d6ef7217f9",
      "value": 0
     }
    },
    "5bb7aee21c884d968446b1d6ef7217f9": {
     "model_module": "@jupyter-widgets/controls",
     "model_name": "SliderStyleModel",
     "state": {
      "_model_module": "@jupyter-widgets/controls",
      "_model_module_version": "1.5.0",
      "_model_name": "SliderStyleModel",
      "_view_count": null,
      "_view_module": "@jupyter-widgets/base",
      "_view_module_version": "1.2.0",
      "_view_name": "StyleView",
      "description_width": "",
      "handle_color": null
     }
    },
    "6764aebe0b5e4e2f84f0fd6b47853001": {
     "model_module": "@jupyter-widgets/controls",
     "model_name": "SliderStyleModel",
     "state": {
      "_model_module": "@jupyter-widgets/controls",
      "_model_module_version": "1.5.0",
      "_model_name": "SliderStyleModel",
      "_view_count": null,
      "_view_module": "@jupyter-widgets/base",
      "_view_module_version": "1.2.0",
      "_view_name": "StyleView",
      "description_width": "",
      "handle_color": null
     }
    },
    "693fbb89583e4526b4ffe86c8b261261": {
     "model_module": "@jupyter-widgets/controls",
     "model_name": "SliderStyleModel",
     "state": {
      "_model_module": "@jupyter-widgets/controls",
      "_model_module_version": "1.5.0",
      "_model_name": "SliderStyleModel",
      "_view_count": null,
      "_view_module": "@jupyter-widgets/base",
      "_view_module_version": "1.2.0",
      "_view_name": "StyleView",
      "description_width": "",
      "handle_color": null
     }
    },
    "6c6498b3852d49699ed804c420794195": {
     "model_module": "@jupyter-widgets/base",
     "model_name": "LayoutModel",
     "state": {
      "_model_module": "@jupyter-widgets/base",
      "_model_module_version": "1.2.0",
      "_model_name": "LayoutModel",
      "_view_count": null,
      "_view_module": "@jupyter-widgets/base",
      "_view_module_version": "1.2.0",
      "_view_name": "LayoutView",
      "align_content": null,
      "align_items": null,
      "align_self": null,
      "border": null,
      "bottom": null,
      "display": null,
      "flex": null,
      "flex_flow": null,
      "grid_area": null,
      "grid_auto_columns": null,
      "grid_auto_flow": null,
      "grid_auto_rows": null,
      "grid_column": null,
      "grid_gap": null,
      "grid_row": null,
      "grid_template_areas": null,
      "grid_template_columns": null,
      "grid_template_rows": null,
      "height": null,
      "justify_content": null,
      "justify_items": null,
      "left": null,
      "margin": null,
      "max_height": null,
      "max_width": null,
      "min_height": null,
      "min_width": null,
      "object_fit": null,
      "object_position": null,
      "order": null,
      "overflow": null,
      "overflow_x": null,
      "overflow_y": null,
      "padding": null,
      "right": null,
      "top": null,
      "visibility": null,
      "width": null
     }
    },
    "6dd57692527341eb81fcfa65bf3c880c": {
     "model_module": "@jupyter-widgets/base",
     "model_name": "LayoutModel",
     "state": {
      "_model_module": "@jupyter-widgets/base",
      "_model_module_version": "1.2.0",
      "_model_name": "LayoutModel",
      "_view_count": null,
      "_view_module": "@jupyter-widgets/base",
      "_view_module_version": "1.2.0",
      "_view_name": "LayoutView",
      "align_content": null,
      "align_items": null,
      "align_self": null,
      "border": null,
      "bottom": null,
      "display": null,
      "flex": null,
      "flex_flow": null,
      "grid_area": null,
      "grid_auto_columns": null,
      "grid_auto_flow": null,
      "grid_auto_rows": null,
      "grid_column": null,
      "grid_gap": null,
      "grid_row": null,
      "grid_template_areas": null,
      "grid_template_columns": null,
      "grid_template_rows": null,
      "height": null,
      "justify_content": null,
      "justify_items": null,
      "left": null,
      "margin": null,
      "max_height": null,
      "max_width": null,
      "min_height": null,
      "min_width": null,
      "object_fit": null,
      "object_position": null,
      "order": null,
      "overflow": null,
      "overflow_x": null,
      "overflow_y": null,
      "padding": null,
      "right": null,
      "top": null,
      "visibility": null,
      "width": null
     }
    },
    "7461d1ae9ff84ac5a5062f096b462a39": {
     "model_module": "@jupyter-widgets/base",
     "model_name": "LayoutModel",
     "state": {
      "_model_module": "@jupyter-widgets/base",
      "_model_module_version": "1.2.0",
      "_model_name": "LayoutModel",
      "_view_count": null,
      "_view_module": "@jupyter-widgets/base",
      "_view_module_version": "1.2.0",
      "_view_name": "LayoutView",
      "align_content": null,
      "align_items": null,
      "align_self": null,
      "border": null,
      "bottom": null,
      "display": null,
      "flex": null,
      "flex_flow": null,
      "grid_area": null,
      "grid_auto_columns": null,
      "grid_auto_flow": null,
      "grid_auto_rows": null,
      "grid_column": null,
      "grid_gap": null,
      "grid_row": null,
      "grid_template_areas": null,
      "grid_template_columns": null,
      "grid_template_rows": null,
      "height": null,
      "justify_content": null,
      "justify_items": null,
      "left": null,
      "margin": null,
      "max_height": null,
      "max_width": null,
      "min_height": null,
      "min_width": null,
      "object_fit": null,
      "object_position": null,
      "order": null,
      "overflow": null,
      "overflow_x": null,
      "overflow_y": null,
      "padding": null,
      "right": null,
      "top": null,
      "visibility": null,
      "width": null
     }
    },
    "76c2ee4d3fd046e6bea042e87a9b5e09": {
     "model_module": "@jupyter-widgets/base",
     "model_name": "LayoutModel",
     "state": {
      "_model_module": "@jupyter-widgets/base",
      "_model_module_version": "1.2.0",
      "_model_name": "LayoutModel",
      "_view_count": null,
      "_view_module": "@jupyter-widgets/base",
      "_view_module_version": "1.2.0",
      "_view_name": "LayoutView",
      "align_content": null,
      "align_items": null,
      "align_self": null,
      "border": null,
      "bottom": null,
      "display": null,
      "flex": null,
      "flex_flow": null,
      "grid_area": null,
      "grid_auto_columns": null,
      "grid_auto_flow": null,
      "grid_auto_rows": null,
      "grid_column": null,
      "grid_gap": null,
      "grid_row": null,
      "grid_template_areas": null,
      "grid_template_columns": null,
      "grid_template_rows": null,
      "height": null,
      "justify_content": null,
      "justify_items": null,
      "left": null,
      "margin": null,
      "max_height": null,
      "max_width": null,
      "min_height": null,
      "min_width": null,
      "object_fit": null,
      "object_position": null,
      "order": null,
      "overflow": null,
      "overflow_x": null,
      "overflow_y": null,
      "padding": null,
      "right": null,
      "top": null,
      "visibility": null,
      "width": null
     }
    },
    "8379064a4d5e47de989312346efbfb7c": {
     "model_module": "@jupyter-widgets/controls",
     "model_name": "VBoxModel",
     "state": {
      "_dom_classes": [
       "widget-interact"
      ],
      "_model_module": "@jupyter-widgets/controls",
      "_model_module_version": "1.5.0",
      "_model_name": "VBoxModel",
      "_view_count": null,
      "_view_module": "@jupyter-widgets/controls",
      "_view_module_version": "1.5.0",
      "_view_name": "VBoxView",
      "box_style": "",
      "children": [
       "IPY_MODEL_098ffca1642342aaae9ec8070e01ad2a",
       "IPY_MODEL_a7ee667a874f4afeb3c96255f7b2de4f",
       "IPY_MODEL_bbae2b4436974444bff91e1965b90bde",
       "IPY_MODEL_cf478a4f12704700b8cac9d20bd8e552"
      ],
      "layout": "IPY_MODEL_6c6498b3852d49699ed804c420794195"
     }
    },
    "8b9d77c8ce564a30a5aba1954876fa8f": {
     "model_module": "@jupyter-widgets/output",
     "model_name": "OutputModel",
     "state": {
      "_dom_classes": [],
      "_model_module": "@jupyter-widgets/output",
      "_model_module_version": "1.0.0",
      "_model_name": "OutputModel",
      "_view_count": null,
      "_view_module": "@jupyter-widgets/output",
      "_view_module_version": "1.0.0",
      "_view_name": "OutputView",
      "layout": "IPY_MODEL_93850d8f61ba4d03bae89be843eb6d3a",
      "msg_id": "",
      "outputs": [
       {
        "image/png": "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\n",
        "metadata": {
         "needs_background": "light",
         "tags": []
        },
        "output_type": "display_data",
        "text/plain": "<Figure size 432x288 with 1 Axes>"
       }
      ]
     }
    },
    "93850d8f61ba4d03bae89be843eb6d3a": {
     "model_module": "@jupyter-widgets/base",
     "model_name": "LayoutModel",
     "state": {
      "_model_module": "@jupyter-widgets/base",
      "_model_module_version": "1.2.0",
      "_model_name": "LayoutModel",
      "_view_count": null,
      "_view_module": "@jupyter-widgets/base",
      "_view_module_version": "1.2.0",
      "_view_name": "LayoutView",
      "align_content": null,
      "align_items": null,
      "align_self": null,
      "border": null,
      "bottom": null,
      "display": null,
      "flex": null,
      "flex_flow": null,
      "grid_area": null,
      "grid_auto_columns": null,
      "grid_auto_flow": null,
      "grid_auto_rows": null,
      "grid_column": null,
      "grid_gap": null,
      "grid_row": null,
      "grid_template_areas": null,
      "grid_template_columns": null,
      "grid_template_rows": null,
      "height": null,
      "justify_content": null,
      "justify_items": null,
      "left": null,
      "margin": null,
      "max_height": null,
      "max_width": null,
      "min_height": null,
      "min_width": null,
      "object_fit": null,
      "object_position": null,
      "order": null,
      "overflow": null,
      "overflow_x": null,
      "overflow_y": null,
      "padding": null,
      "right": null,
      "top": null,
      "visibility": null,
      "width": null
     }
    },
    "959c626cfa574df3ac6cfbf61d7d8e8b": {
     "model_module": "@jupyter-widgets/base",
     "model_name": "LayoutModel",
     "state": {
      "_model_module": "@jupyter-widgets/base",
      "_model_module_version": "1.2.0",
      "_model_name": "LayoutModel",
      "_view_count": null,
      "_view_module": "@jupyter-widgets/base",
      "_view_module_version": "1.2.0",
      "_view_name": "LayoutView",
      "align_content": null,
      "align_items": null,
      "align_self": null,
      "border": null,
      "bottom": null,
      "display": null,
      "flex": null,
      "flex_flow": null,
      "grid_area": null,
      "grid_auto_columns": null,
      "grid_auto_flow": null,
      "grid_auto_rows": null,
      "grid_column": null,
      "grid_gap": null,
      "grid_row": null,
      "grid_template_areas": null,
      "grid_template_columns": null,
      "grid_template_rows": null,
      "height": null,
      "justify_content": null,
      "justify_items": null,
      "left": null,
      "margin": null,
      "max_height": null,
      "max_width": null,
      "min_height": null,
      "min_width": null,
      "object_fit": null,
      "object_position": null,
      "order": null,
      "overflow": null,
      "overflow_x": null,
      "overflow_y": null,
      "padding": null,
      "right": null,
      "top": null,
      "visibility": null,
      "width": null
     }
    },
    "a7ee667a874f4afeb3c96255f7b2de4f": {
     "model_module": "@jupyter-widgets/controls",
     "model_name": "FloatSliderModel",
     "state": {
      "_dom_classes": [],
      "_model_module": "@jupyter-widgets/controls",
      "_model_module_version": "1.5.0",
      "_model_name": "FloatSliderModel",
      "_view_count": null,
      "_view_module": "@jupyter-widgets/controls",
      "_view_module_version": "1.5.0",
      "_view_name": "FloatSliderView",
      "continuous_update": true,
      "description": "Tau B  : ",
      "description_tooltip": null,
      "disabled": false,
      "layout": "IPY_MODEL_bb024349208f4963bf0ac6f1bd460fbc",
      "max": 10,
      "min": 0,
      "orientation": "horizontal",
      "readout": true,
      "readout_format": ".2f",
      "step": 0.5,
      "style": "IPY_MODEL_6764aebe0b5e4e2f84f0fd6b47853001",
      "value": 3
     }
    },
    "b09bd3b114014a2481dddaf12073e62e": {
     "model_module": "@jupyter-widgets/controls",
     "model_name": "SliderStyleModel",
     "state": {
      "_model_module": "@jupyter-widgets/controls",
      "_model_module_version": "1.5.0",
      "_model_name": "SliderStyleModel",
      "_view_count": null,
      "_view_module": "@jupyter-widgets/base",
      "_view_module_version": "1.2.0",
      "_view_name": "StyleView",
      "description_width": "",
      "handle_color": null
     }
    },
    "bb024349208f4963bf0ac6f1bd460fbc": {
     "model_module": "@jupyter-widgets/base",
     "model_name": "LayoutModel",
     "state": {
      "_model_module": "@jupyter-widgets/base",
      "_model_module_version": "1.2.0",
      "_model_name": "LayoutModel",
      "_view_count": null,
      "_view_module": "@jupyter-widgets/base",
      "_view_module_version": "1.2.0",
      "_view_name": "LayoutView",
      "align_content": null,
      "align_items": null,
      "align_self": null,
      "border": null,
      "bottom": null,
      "display": null,
      "flex": null,
      "flex_flow": null,
      "grid_area": null,
      "grid_auto_columns": null,
      "grid_auto_flow": null,
      "grid_auto_rows": null,
      "grid_column": null,
      "grid_gap": null,
      "grid_row": null,
      "grid_template_areas": null,
      "grid_template_columns": null,
      "grid_template_rows": null,
      "height": null,
      "justify_content": null,
      "justify_items": null,
      "left": null,
      "margin": null,
      "max_height": null,
      "max_width": null,
      "min_height": null,
      "min_width": null,
      "object_fit": null,
      "object_position": null,
      "order": null,
      "overflow": null,
      "overflow_x": null,
      "overflow_y": null,
      "padding": null,
      "right": null,
      "top": null,
      "visibility": null,
      "width": null
     }
    },
    "bbae2b4436974444bff91e1965b90bde": {
     "model_module": "@jupyter-widgets/controls",
     "model_name": "FloatSliderModel",
     "state": {
      "_dom_classes": [],
      "_model_module": "@jupyter-widgets/controls",
      "_model_module_version": "1.5.0",
      "_model_name": "FloatSliderModel",
      "_view_count": null,
      "_view_module": "@jupyter-widgets/controls",
      "_view_module_version": "1.5.0",
      "_view_name": "FloatSliderView",
      "continuous_update": true,
      "description": "Initial N B   : ",
      "description_tooltip": null,
      "disabled": false,
      "layout": "IPY_MODEL_76c2ee4d3fd046e6bea042e87a9b5e09",
      "max": 100,
      "min": 0,
      "orientation": "horizontal",
      "readout": true,
      "readout_format": ".2f",
      "step": 5,
      "style": "IPY_MODEL_693fbb89583e4526b4ffe86c8b261261",
      "value": 0
     }
    },
    "cba2283e5dc543599310bd092d7ee008": {
     "model_module": "@jupyter-widgets/controls",
     "model_name": "VBoxModel",
     "state": {
      "_dom_classes": [
       "widget-interact"
      ],
      "_model_module": "@jupyter-widgets/controls",
      "_model_module_version": "1.5.0",
      "_model_name": "VBoxModel",
      "_view_count": null,
      "_view_module": "@jupyter-widgets/controls",
      "_view_module_version": "1.5.0",
      "_view_name": "VBoxView",
      "box_style": "",
      "children": [
       "IPY_MODEL_3c86d7c7392e40b7aea47c28a642b84c",
       "IPY_MODEL_4c3b6a66d800407eace5a53e1d26dcc2",
       "IPY_MODEL_8b9d77c8ce564a30a5aba1954876fa8f"
      ],
      "layout": "IPY_MODEL_494d6159d79d46c2b4167f9084000ae2"
     }
    },
    "cf478a4f12704700b8cac9d20bd8e552": {
     "model_module": "@jupyter-widgets/output",
     "model_name": "OutputModel",
     "state": {
      "_dom_classes": [],
      "_model_module": "@jupyter-widgets/output",
      "_model_module_version": "1.0.0",
      "_model_name": "OutputModel",
      "_view_count": null,
      "_view_module": "@jupyter-widgets/output",
      "_view_module_version": "1.0.0",
      "_view_name": "OutputView",
      "layout": "IPY_MODEL_6dd57692527341eb81fcfa65bf3c880c",
      "msg_id": "",
      "outputs": [
       {
        "image/png": "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\n",
        "metadata": {
         "needs_background": "light",
         "tags": []
        },
        "output_type": "display_data",
        "text/plain": "<Figure size 432x288 with 1 Axes>"
       }
      ]
     }
    }
   }
  }
 },
 "nbformat": 4,
 "nbformat_minor": 1
}

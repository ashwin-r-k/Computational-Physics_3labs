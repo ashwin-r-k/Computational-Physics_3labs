{
 "cells": [
  {
   "cell_type": "markdown",
   "metadata": {
    "id": "S9GZ9PHpfJ7K"
   },
   "source": [
    "# Lab 2"
   ]
  },
  {
   "attachments": {},
   "cell_type": "markdown",
   "metadata": {
    "colab_type": "text",
    "id": "view-in-github"
   },
   "source": [
    "<a href=\"https://colab.research.google.com/github/ashwin-r-k/Computational-Physics_3labs/blob/main/LAB_2.ipynb\" target=\"_parent\"><img src=\"https://colab.research.google.com/assets/colab-badge.svg\" alt=\"Open In Colab\"/></a>"
   ]
  },
  {
   "cell_type": "markdown",
   "metadata": {
    "id": "aPY1lBBKfJ7P"
   },
   "source": [
    "## Group 3:\n",
    "\n",
    "\n",
    "---\n",
    "\n",
    "Ashwin Kharat\t  \n",
    "\n"
   ]
  },
  {
   "cell_type": "code",
   "execution_count": null,
   "metadata": {
    "id": "wosFmVk0fJ7Q"
   },
   "outputs": [],
   "source": [
    "#-- This will reset the runtime and clear all variable.\n",
    "%reset -f\n",
    "#A new Begining\n",
    "\n",
    "#-- importing all the necessary Libraries\n",
    "import numpy as np\n",
    "from matplotlib import pyplot as plt\n",
    "from matplotlib import animation, rc\n",
    "import ipywidgets as widgets\n",
    "from IPython.display import display, HTML\n",
    "## --\n",
    " \n",
    "#-- Custom functions to make life easy.\n",
    "# g3 represent Group 3\n",
    "# lable class creates a label object which can be used with new plot and multiPlot functions\n",
    "# lable format is\n",
    "#1.Legend of the plot that u want to make \n",
    "#2.X-axis label,  3. Y-axis label\n",
    "#3.style of line plotted\n",
    "#this can all be skipped and a default plot is made with the default label\n",
    "#newPlot makes a fresh new Figure and plot taking the g3_lable\n",
    "#formate is (x values , y values , g3_lable object )\n",
    "# multiPlot can be used repeatedly to plot on the same figure.\n",
    "#formate is (x values , y values , g3_lable object ).\n",
    "\n",
    "class label():\n",
    "  def __init__(self, ll = None ,lx = 'x',ly ='y',style = '-'):\n",
    "    self.ll = ll    # the lable for legend\n",
    "    self.lx = lx    # x axis\n",
    "    self.ly = ly    # y axis\n",
    "    self.style = style\n",
    " \n",
    "class g3:\n",
    "    \n",
    "  def newPlot(x, y, L = label() ):\n",
    "    fig = plt.figure()\n",
    "    easy = fig.add_subplot(111)  \n",
    "    easy.plot( x, y,  L.style, label = L.ll )\n",
    "    easy.legend()\n",
    "    plt.xlabel( L.lx )\n",
    "    plt.ylabel( L.ly )\n",
    " \n",
    "  def multiPlot(x, y, L = label() ):\n",
    "    plt.plot( x, y, L.style, label = L.ll ,alpha=0.5)\n",
    "    plt.legend()\n",
    "    plt.xlabel( L.lx )\n",
    "    plt.ylabel( L.ly )\n",
    "#--"
   ]
  },
  {
   "cell_type": "markdown",
   "metadata": {
    "id": "OlT_k-OwfJ7R"
   },
   "source": [
    "\n",
    "\n",
    "##Problem 1 : Implementation of Euler and Euler-Cromer ODE. "
   ]
  },
  {
   "cell_type": "markdown",
   "metadata": {
    "id": "KqBD2QkffJ7R"
   },
   "source": [
    "### Part A\n",
    "\n",
    "Write a function for solving the Newton's laws of motion $$\\frac{d^2 x}{dt^2} = a(x, \\dot{x}, t),$$ using Euler and Euler-Cromer algorithms. As shown in class, this 2nd order ODE can be broken into a set of 2 coupled 1st order ODEs:\n",
    "\n",
    "$$ \\frac{d}{dt} \\begin{pmatrix}x \\\\ v \\end{pmatrix} = \\begin{pmatrix} {v} \\\\ a(x,v,t) \\end{pmatrix}$$\n",
    "\n",
    "The $\\texttt{EulerODE}(\\, )$ function should take following as input:\n",
    "\n",
    "a. a list or array containing initial condition for $x$ and $v$ i.e. $[x_0, v_0]$.\n",
    "\n",
    "b. a list or array with starting time and end time i.e. $[t_0, t_{max}]$.\n",
    "\n",
    "c. The function to calculate the right-hand side of the above equation. It can be defined with a Python function as follows:\n",
    "\n",
    "$$\\texttt{rhs} \\; \\Big(x_{k}, v_{k}, t_{k} \\Big):$$ \n",
    "\n",
    "and return a list containing the velocity and acceleration at time $t_k$:\n",
    "\n",
    "$$ \\texttt{return} \\qquad \\Big[ v[t_k], \\, a[t_k] \\Big]$$\n",
    "\n",
    "Hence the functional form for the $\\texttt{EulerODE}$ should be as follows: \n",
    "\n",
    "$$\\texttt{EulerODE} \\Big(\\texttt{initCondn}, \\; \\texttt{tRange}, \\; rhs\\Big)$$\n",
    "where $\\texttt{initCondn} \\equiv [x_0, v_0]$ is a list containing the initial conditions at $t=t_0$ and $\\texttt{tRange} \\equiv [t_0, t_f]$ is the list containing the time-range to integrate the equations.\n",
    "\n",
    "Make a similar function for Euler-Cromer algorithm $\\texttt{EulerCromerODE}(\\, )$. \n",
    "\n"
   ]
  },
  {
   "cell_type": "markdown",
   "metadata": {
    "id": "EESGUxeJfJ7S"
   },
   "source": [
    "#### Solution part A\n"
   ]
  },
  {
   "cell_type": "code",
   "execution_count": null,
   "metadata": {
    "id": "FdMmZSWYfJ7S"
   },
   "outputs": [],
   "source": [
    "# Just a BluePrint.\n",
    "\n",
    "def rhs(xk,vk,tk):\n",
    "#This is the general definition for any 2nd order vectorised ODE. \n",
    "#we are calling another function 'a(xk,vk,tk)' which has the definition for acceleration written.\n",
    "  return [vk , a(xk,vk,tk)]\n",
    "\n",
    "\n",
    "\n",
    "def EulerODE(initCondn, tRange, rhs):\n",
    "  # we could have given a value to dt but wanted user to have a control over it.\n",
    "  dt = tRange[2]\n",
    "  time = np.arange(tRange[0], tRange[1] + dt , dt)\n",
    "  \n",
    "  position = np.zeros(len(time))\n",
    "  velocity = np.zeros(len(time))\n",
    "  \n",
    "  position[0] = initCondn[0]\n",
    "  velocity[0] = initCondn[1]\n",
    "\n",
    "  for i in range(0, len(time)-1):\n",
    "    position[i+1] = position[i] + rhs(position[i],velocity[i], time[i] )[0] * dt\n",
    "    velocity[i+1] = velocity[i] + rhs(position[i],velocity[i], time[i] )[1] * dt\n",
    "\n",
    "  return position, velocity\n",
    "\n",
    "\n",
    "def EulerCromerODE(initCondn, tRange, rhs):\n",
    "  \n",
    "  dt = tRange[2]\n",
    "  time = np.arange(tRange[0], tRange[1] + dt , dt)\n",
    "  position = np.zeros(len(time))\n",
    "  velocity = np.zeros(len(time))\n",
    "  \n",
    "  position[0] = initCondn[0]\n",
    "  velocity[0] = initCondn[1]\n",
    "\n",
    "  for i in range(0, len(time)-1):\n",
    "    velocity[i+1] = velocity[i] + rhs(position[i],velocity[i], None )[1] * dt\n",
    "    position[i+1] = position[i] + rhs(position[i+1],velocity[i+1], None )[0] * dt\n",
    "\n",
    "  return position, velocity\n"
   ]
  },
  {
   "cell_type": "code",
   "execution_count": null,
   "metadata": {
    "colab": {
     "base_uri": "https://localhost:8080/",
     "height": 823
    },
    "id": "jVItN-pgfJ7T",
    "outputId": "31ba2fb8-db62-42c8-cda3-3b3149dfbc93"
   },
   "outputs": [],
   "source": [
    "# An example code is written for a spring mass system with the format given above.\n",
    "def a(xk,vk,t):\n",
    "  mass = 1 #kg\n",
    "  c = 0 # damping constant taking zero for simple case / demo purpose\n",
    "\n",
    "  k = 1 # spring constant\n",
    "  return -1/mass*(c*vk + k* xk )\n",
    "# -- Initialization\n",
    "time_0 = 0 \n",
    "time_max = 50\n",
    "time_step = 1/10 # 10th part of a second \n",
    "position_0 = 5 # in meters difference from rest position\n",
    "velocity_0 = 0        # angular velocity            \n",
    "#--\n",
    "\n",
    "initCondn = [position_0, velocity_0]\n",
    "tRange = [time_0, time_max, time_step]\n",
    "dt = tRange[2]\n",
    "time = np.arange(tRange[0], tRange[1] + dt , dt)\n",
    "\n",
    "# calling euler fn to solve for the given initial condition.\n",
    "position, velocity = EulerODE(initCondn, tRange, rhs)\n",
    "\n",
    "lable = label('trajectory in phase space','position (m)','velocity ( m/s )','--')\n",
    "g3.newPlot(position, velocity,lable)\n",
    "plt.plot(position[0], velocity[0],'*r')\n",
    "#plt.legend()\n",
    "plt.title('Phase Space by Euler method')\n",
    "plt.show()\n",
    "\n",
    "lable = label('time vs velocity ','time (sec)','velocity ( m/s ) ','--')\n",
    "g3.newPlot(time, velocity,lable)\n",
    "\n",
    "lable = label('oscillation amplitude','time (sec)','position (m)','--')\n",
    "g3.newPlot(time, position  ,lable)\n"
   ]
  },
  {
   "cell_type": "markdown",
   "metadata": {
    "id": "unTTsNnJfJ7U"
   },
   "source": [
    "#### Simulation of SHO : Euler."
   ]
  },
  {
   "cell_type": "code",
   "execution_count": null,
   "metadata": {
    "colab": {
     "base_uri": "https://localhost:8080/",
     "height": 840
    },
    "id": "ZbK1BWp3fJ7V",
    "outputId": "b8788303-bf13-4f1b-e056-64730be61bc7"
   },
   "outputs": [],
   "source": [
    "\n",
    "x_data = []\n",
    "y_data = []\n",
    "l = 10 # length of unstretched spring.\n",
    "\n",
    "fig, ax = plt.subplots(figsize=(6,6))\n",
    "ax = plt.axes(xlim=(-l, l*3),ylim=(-l*0.8, l*0.8 ))\n",
    "line, = ax.plot(0, 0)\n",
    "dot, = ax.plot(0, 0, 'sk', markersize = 20 )\n",
    "plt.plot( np.zeros(10),np.linspace(0,2,10), '-k')\n",
    "plt.plot( np.linspace(-10,30,10) ,np.zeros(10), '-b')\n",
    "\n",
    "plt.xlabel('x (meter)')\n",
    "plt.ylabel('y (meter)')\n",
    "plt.title('Simulation using Euler method')\n",
    "\n",
    "def animation_frame(i):\n",
    "\n",
    "  x_data = np.linspace(0, (l + position[i]), 50)\n",
    "  temp = 0.5 * np.sin(x_data * (l*2*np.pi)/(l + position[i]))\n",
    "  y_data = temp + 0.5 # just puting spring in place.\n",
    "  \n",
    "  line.set_xdata(x_data)\n",
    "  line.set_ydata(y_data)\n",
    "  \n",
    "  dot.set_ydata(0.5)\n",
    "  dot.set_xdata((l + position[i]))\n",
    "\n",
    "  return line\n",
    "\n",
    "# simple plot is just the initial condition.\n",
    "# Animination is a video.\n",
    "\n",
    "animation_vid = animation.FuncAnimation(fig, func = animation_frame, frames = np.arange(0, len(time)-1 , 1) , interval= dt*1000 )\n",
    "HTML(animation_vid.to_html5_video())"
   ]
  },
  {
   "cell_type": "markdown",
   "metadata": {
    "id": "7FXTfZy6fJ7W"
   },
   "source": [
    "The above numerical solution is using the euler method which is why we are getting an error. The solution shows that an extra energy is pumped into the system which is not.\n"
   ]
  },
  {
   "cell_type": "code",
   "execution_count": null,
   "metadata": {
    "colab": {
     "base_uri": "https://localhost:8080/",
     "height": 819
    },
    "id": "TTuJ7cLufJ7X",
    "outputId": "79ecf0f4-72c3-410e-dc95-0f65a54aaae7"
   },
   "outputs": [],
   "source": [
    "\n",
    "position, velocity = EulerCromerODE(initCondn, tRange, rhs)\n",
    "\n",
    "lable = label('trajectory in phase space','position (m)','velocity ( m/s )','--')\n",
    "g3.newPlot(position, velocity,lable)\n",
    "plt.plot(position[0], velocity[0],'*r')\n",
    "#plt.legend()\n",
    "plt.title('Phase Space by Euler Cromer method')\n",
    "plt.show()\n",
    "\n",
    "lable = label('time vs velocity ','time (sec)','velocity ( m/s ) ','--')\n",
    "g3.newPlot(time, velocity,lable)\n",
    "\n",
    "lable = label('oscillation amplitude','time (sec)','position (m)','--')\n",
    "g3.newPlot(time, position  ,lable)"
   ]
  },
  {
   "cell_type": "markdown",
   "metadata": {
    "id": "LdjpXWn7fJ7X"
   },
   "source": [
    "Here using the Euler cromer method we get the proper phase space trajectory and the energy of the system is conserved. Here the velocity and position shows an oscillatory variation with a phase difference of  $π/2$  i.e. the two are in quadrature just as expected for a Simple harmonic oscillator."
   ]
  },
  {
   "cell_type": "markdown",
   "metadata": {
    "id": "V7Gxhc4AfJ7Y"
   },
   "source": [
    "#### Simulation of SHO: Euler Cromer.\n",
    "\n",
    "> Indented block\n",
    "\n"
   ]
  },
  {
   "cell_type": "code",
   "execution_count": null,
   "metadata": {
    "colab": {
     "base_uri": "https://localhost:8080/",
     "height": 840
    },
    "id": "1FPmsC21fJ7Y",
    "outputId": "ed79f672-0f4f-4917-e960-e322b7ba2336"
   },
   "outputs": [],
   "source": [
    "\n",
    "x_data = []\n",
    "y_data = []\n",
    "l = 10 # length of unstretched spring.\n",
    "\n",
    "fig, ax = plt.subplots(figsize=(6,6))\n",
    "ax = plt.axes(xlim=(-l, l*3),ylim=(-l*0.8, l*0.8 ))\n",
    "line, = ax.plot(0, 0)\n",
    "dot, = ax.plot(0, 0, 'sk', markersize = 20 )\n",
    "plt.plot( np.zeros(10),np.linspace(0,2,10), '-k')\n",
    "plt.plot( np.linspace(-10,30,10) ,np.zeros(10), '-b')\n",
    "\n",
    "plt.xlabel('x (meter)')\n",
    "plt.ylabel('y (meter)')\n",
    "plt.title('Simulation using Euler cromer method')\n",
    "\n",
    "def animation_frame(i):\n",
    "\n",
    "  x_data = np.linspace(0, (l + position[i]), 50)\n",
    "  temp = 0.5 * np.sin(x_data * (l*2*np.pi)/(l + position[i]))\n",
    "  y_data = temp + 0.5 # just puting spring in place.\n",
    "  \n",
    "  line.set_xdata(x_data)\n",
    "  line.set_ydata(y_data)\n",
    "  \n",
    "  dot.set_ydata(0.5)\n",
    "  dot.set_xdata((l + position[i]))\n",
    "\n",
    "  return line\n",
    "\n",
    "# simple plot is just the initial condition\n",
    "# Animination is a video.\n",
    "\n",
    "animation_vid = animation.FuncAnimation(fig, func = animation_frame, frames = np.arange(0, len(time)-1 , 1) , interval= dt*1000 )\n",
    "HTML(animation_vid.to_html5_video())"
   ]
  },
  {
   "cell_type": "code",
   "execution_count": null,
   "metadata": {
    "colab": {
     "base_uri": "https://localhost:8080/",
     "height": 453
    },
    "id": "nPP4Qdn0fJ7Z",
    "outputId": "2ce05bba-900d-4f64-e4e7-8fd204ab132f"
   },
   "outputs": [],
   "source": [
    "HTML(animation_vid.to_html5_video())"
   ]
  },
  {
   "cell_type": "markdown",
   "metadata": {
    "id": "Wr5m84HCfJ7a"
   },
   "source": [
    "### Part B\n",
    "\n",
    "Use these functions to solve for the simple harmonic pendulum:\n",
    "$$\\frac{d^2 \\theta}{dt^2} =  − k \\, sin \\theta,$$\n",
    "with boundary conditions:\n",
    "at $t = 0$, $\\theta = \\pi/4, \\dot{\\theta} = 0$. Note that the initial amplitude is quite large, so it is not really a simple harmonic oscillator.\n",
    "\n",
    "Plot $\\theta$ Vs $t$ and the phase space trajectory. \n",
    "\n",
    "Explore the system for small oscillations and explain any qualitative difference from the previous case. (For this choose suitable boundary conditions).\n",
    "\n"
   ]
  },
  {
   "cell_type": "markdown",
   "metadata": {
    "id": "6PdQ9Ow8fJ7a"
   },
   "source": [
    "#### Solution using Euler Method.\n",
    "We are solving an ODE of the form\n",
    "$$ \\frac{d\\vec y}{dt} = \\vec f$$\n",
    "\n",
    "For a simple harmonic pendulum, the equation of motion is second-order ODE:\n",
    "\n",
    "$$\\frac{d^2 \\theta}{dt^2} =  − k \\, sin \\theta,$$\n",
    "\n",
    "we can vectorize this as \n",
    "\n",
    "$$\n",
    "\\frac{d}{dt}\n",
    "\\begin{bmatrix} \n",
    "\\theta \\\\ \\omega \n",
    "\\end{bmatrix}\n",
    "= \n",
    "\\begin{bmatrix}\n",
    "\\omega \\\\ - k sin(\\theta)\n",
    "\\end{bmatrix}\n",
    "$$\n",
    "\n",
    "\\\\\n",
    "\n",
    "The initial condition is given:\n",
    "$ \\vec y_0 = \\vec y(t=0) \n",
    "    = \\begin{bmatrix}\n",
    "    \\theta_0 \\\\ \\omega_0\n",
    "    \\end{bmatrix}\n",
    "    = \\begin{bmatrix}\n",
    "    \\pi/4 \\\\ 0.0\n",
    "    \\end{bmatrix}\n",
    "$\n"
   ]
  },
  {
   "cell_type": "code",
   "execution_count": null,
   "metadata": {
    "id": "9odY4h5KfJ7a"
   },
   "outputs": [],
   "source": [
    "# Functions used in Part B solution.\n",
    "# the Functions are created using same principles from Part A.\n",
    "def rhs(theta, omega, time):\n",
    "  g = 9.8\n",
    "  r = 1\n",
    "  k = g/r\n",
    "  return [omega, -k * np.sin(theta)]\n",
    "\n",
    "def EulerODE(initCondn, tRange, rhs):\n",
    " \n",
    "  dt = tRange[2]\n",
    "  time = np.arange(tRange[0], tRange[1] + dt , dt)\n",
    "  theta = np.zeros(len(time))\n",
    "  omega = np.zeros(len(time))\n",
    "  \n",
    "  theta[0] = initCondn[0]\n",
    "  omega[0] = initCondn[1]\n",
    "\n",
    "  for i in range(0, len(time)-1):\n",
    "    theta[i+1] = theta[i] + rhs(theta[i],omega[i], None )[0] * dt\n",
    "    omega[i+1] = omega[i] + rhs(theta[i],omega[i], None )[1] * dt\n",
    "\n",
    "  return theta, omega\n",
    "\n",
    "\n",
    "def EulerCromerODE(initCondn, tRange, rhs):\n",
    "  \n",
    "  dt = tRange[2]\n",
    "  time = np.arange(tRange[0], tRange[1] + dt , dt)\n",
    "  theta = np.zeros(len(time))\n",
    "  omega = np.zeros(len(time))\n",
    "  \n",
    "  theta[0] = initCondn[0]\n",
    "  omega[0] = initCondn[1]\n",
    "\n",
    "  for i in range(0, len(time)-1):\n",
    "    omega[i+1] = omega[i] + rhs( theta[i], omega[i] , None )[1] * dt\n",
    "    theta[i+1] = theta[i] + rhs( theta[i+1], omega[i+1] , None )[0] * dt\n",
    "  return theta, omega\n"
   ]
  },
  {
   "cell_type": "code",
   "execution_count": null,
   "metadata": {
    "colab": {
     "base_uri": "https://localhost:8080/",
     "height": 1000
    },
    "id": "-B_uydtOfJ7b",
    "outputId": "d4149190-a2f2-48d1-90b6-816167533c98"
   },
   "outputs": [],
   "source": [
    "time_0 = 0 \n",
    "time_max = 5\n",
    "time_step = 1/10 # 10th part of a second \n",
    "\n",
    "theta_0 = np.pi/4 \n",
    "omega_0 = 0        # angular velocity            \n",
    "\n",
    "initCondn = [theta_0, omega_0]\n",
    "tRange = [time_0, time_max, time_step]\n",
    "\n",
    "dt = tRange[2]\n",
    "time = np.arange(tRange[0], tRange[1] + dt , dt)\n",
    "\n",
    "theta, omega = EulerODE(initCondn, tRange, rhs)\n",
    "\n",
    "lable = label('trajectory in phase space','angle (radian)','angular velocity (radian/s)','--')\n",
    "g3.newPlot(theta, omega,lable)\n",
    "\n",
    "plt.plot(theta[0], omega[0],'*r')\n",
    "#plt.legend()\n",
    "plt.title('Phase Space by Euler method')\n",
    "plt.show()\n",
    "\n",
    "lable = label(' ','time (sec)','angular velocity (radian / sec)','--')\n",
    "g3.newPlot(time, omega,lable)\n",
    "\n",
    "lable = label(' ','time (sec)','theta (radian)','--')\n",
    "g3.newPlot(time, theta  ,lable)\n",
    "plt.show()\n",
    "\n",
    "plt.polar(theta, np.ones(len(theta)), 'g.') \n",
    "plt.title(\"all the angles taken by Pendulum\")\n",
    "\n",
    "#saving the data in dictionary form to use later for calculating energy\n",
    "euelrSolution = {'theta' : theta, 'omega': omega}"
   ]
  },
  {
   "cell_type": "markdown",
   "metadata": {
    "id": "OALOPwo7fJ7b"
   },
   "source": [
    "We can see the angle taken by Pendulum are higher then the initial angle, which should not be posible.\n",
    "We get this error because of euler method , as it is just an approximation."
   ]
  },
  {
   "cell_type": "code",
   "execution_count": null,
   "metadata": {
    "colab": {
     "base_uri": "https://localhost:8080/",
     "height": 404
    },
    "id": "Kqc7SOZVfJ7b",
    "outputId": "e88c8496-0e66-4c6d-e6a7-d5c8d75bd90c"
   },
   "outputs": [],
   "source": [
    "\n",
    "x_data = []\n",
    "y_data = []\n",
    "r = 1\n",
    "\n",
    "fig, ax = plt.subplots(figsize=(6,6))\n",
    "ax = plt.axes(xlim=(-r*1.1, r*1.1 ), ylim=(-r*1.1, r*1.1))\n",
    "line, = ax.plot(0, 0)\n",
    "dot, = ax.plot(0, 0,'ro', markersize = 10 )\n",
    "plt.xlabel('x (meter)')\n",
    "plt.ylabel('y (meter)')\n",
    "plt.title(\"Simulation of Simple Pendulum: Euler Method\")\n",
    "\n",
    "def animation_frame(i):\n",
    "  x_data = np.linspace(0, r * np.sin(theta[i]), 10)\n",
    "  y_data = np.linspace(0, - r * np.cos(theta[i]) ,10 )\n",
    "  line.set_xdata(x_data)\n",
    "  line.set_ydata(y_data)\n",
    "\n",
    "  dot.set_xdata(r * np.sin(theta[i]))\n",
    "  dot.set_ydata(- r * np.cos(theta[i]))\n",
    "\n",
    "  return line, dot\n",
    "\n",
    "animation_vid = animation.FuncAnimation(fig, func = animation_frame, frames = np.arange(0, len(time)-1 , 1) , interval= dt*1000 )\n"
   ]
  },
  {
   "cell_type": "code",
   "execution_count": null,
   "metadata": {
    "colab": {
     "base_uri": "https://localhost:8080/",
     "height": 453
    },
    "id": "vHaF1BSSfJ7c",
    "outputId": "f36cd9ac-37d5-4d56-a454-12743a785214"
   },
   "outputs": [],
   "source": [
    "HTML(animation_vid.to_html5_video())"
   ]
  },
  {
   "cell_type": "markdown",
   "metadata": {
    "id": "hwIfOvFXfJ7c"
   },
   "source": [
    "####Solution using Euler-Cromer algorithm"
   ]
  },
  {
   "cell_type": "code",
   "execution_count": null,
   "metadata": {
    "colab": {
     "base_uri": "https://localhost:8080/",
     "height": 1000
    },
    "id": "VddPQGFZfJ7c",
    "outputId": "6c89bffb-1a71-4a6e-9f04-526ace1226bc"
   },
   "outputs": [],
   "source": [
    "time_0 = 0 \n",
    "time_max = 5\n",
    "time_step = 1/10 # 10th part of a second \n",
    " \n",
    "theta_0 = np.pi/4\n",
    "omega_0 = 0        # angular velocity            \n",
    "\n",
    "initCondn = [theta_0, omega_0]\n",
    "tRange = [time_0, time_max, time_step]\n",
    "\n",
    "dt = tRange[2]\n",
    "time = np.arange(tRange[0], tRange[1] + dt , dt)\n",
    "\n",
    "theta, omega = EulerCromerODE(initCondn, tRange, rhs)\n",
    "\n",
    "lable = label('trajectory in phase space','angle (radian)','angular velocity (radian/s)','--')\n",
    "g3.newPlot(theta, omega,lable)\n",
    "\n",
    "plt.plot(theta[0], omega[0],'*r')\n",
    "#plt.legend()\n",
    "plt.title('Phase Space by Euler method')\n",
    "plt.show()\n",
    "\n",
    "lable = label(' ','time (sec)','angular velocity (radian / sec)','--')\n",
    "g3.newPlot(time, omega,lable)\n",
    "\n",
    "lable = label(' ','time (sec)','theta (radian)','--')\n",
    "g3.newPlot(time, theta  ,lable)\n",
    "plt.show()\n",
    "\n",
    "plt.polar(theta, np.ones(len(theta)), 'g.') \n",
    "plt.title(\"all the angles taken by Pendulum\")\n",
    "\n",
    "#saving the data in dictionary form to use later for calculating energy\n",
    "euelrCromerSolution = {'theta' : theta, 'omega': omega}"
   ]
  },
  {
   "cell_type": "code",
   "execution_count": null,
   "metadata": {
    "colab": {
     "base_uri": "https://localhost:8080/",
     "height": 404
    },
    "id": "1CeaQZgrfJ7d",
    "outputId": "e981c1aa-f4ad-45d5-9418-67a0cbf4e186"
   },
   "outputs": [],
   "source": [
    "\n",
    "x_data = []\n",
    "y_data = []\n",
    "r = 1 # meter\n",
    "#length of pendulume rod\n",
    "\n",
    "fig, ax = plt.subplots(figsize=(6,6))\n",
    "ax = plt.axes(xlim=(-r*1.1, r*1.1 ), ylim=(-r*1.1, r*1.1))\n",
    "line, = ax.plot(0, 0)\n",
    "dot, = ax.plot(0, 0,'ro', markersize = 10 )\n",
    "plt.xlabel('x (meter)')\n",
    "plt.ylabel('y (meter)')\n",
    "plt.title(\"Simulation of Simple Pendulum: Euler cromer Method\")\n",
    "\n",
    "def animation_frame(i):\n",
    "  x_data = np.linspace(0, r * np.sin(theta[i]), 10)\n",
    "  y_data = np.linspace(0, - r * np.cos(theta[i]) ,10 )\n",
    "  line.set_xdata(x_data)\n",
    "  line.set_ydata(y_data)\n",
    "\n",
    "  dot.set_xdata(r * np.sin(theta[i]))\n",
    "  dot.set_ydata(- r * np.cos(theta[i]))\n",
    "\n",
    "  return line, dot\n",
    "\n",
    "animation_vid = animation.FuncAnimation(fig, func=animation_frame, frames = np.arange(0, len(time)-1 , 1) , interval= dt*1000 )"
   ]
  },
  {
   "cell_type": "code",
   "execution_count": null,
   "metadata": {
    "colab": {
     "base_uri": "https://localhost:8080/",
     "height": 453
    },
    "id": "7zNxDLhffJ7d",
    "outputId": "09bc1896-cbda-4251-9c9e-daa4ab22ea97"
   },
   "outputs": [],
   "source": [
    "HTML(animation_vid.to_html5_video())"
   ]
  },
  {
   "cell_type": "markdown",
   "metadata": {
    "id": "O65_qc2EfJ7d"
   },
   "source": [
    "### Part C\n",
    "Plot the total energy as a function of time for both the methods. Notice any oscillations?"
   ]
  },
  {
   "cell_type": "markdown",
   "metadata": {
    "id": "WHW8rtXQfJ7d"
   },
   "source": [
    "####Solution Energy\n",
    "\n",
    "$\\text{kinetic energy}  =\\frac{m}{2}(\\dot r ^2 + r^2\\dot \\theta ^2)$\n",
    "\n",
    "$\\text{potential energy} = m g (h - r * cos(\\theta) )$\n"
   ]
  },
  {
   "cell_type": "code",
   "execution_count": null,
   "metadata": {
    "colab": {
     "base_uri": "https://localhost:8080/",
     "height": 351
    },
    "id": "u6iSZALcfJ7e",
    "outputId": "239a6299-2174-4cf5-8ffe-b1efbde6c84b"
   },
   "outputs": [],
   "source": [
    "# befor running this make sure that the initial condition is the same for both Methods above.\n",
    "\n",
    "mass = 1 # kg\n",
    "height = radius = 1 # meter\n",
    "g = 9.8 #m/s\n",
    "\n",
    "plt.figure(figsize=(7,5))\n",
    "\n",
    "energy_euler = mass / 2 *( 0 +radius**2 * np.array(euelrSolution.get('omega'))**2 ) + mass * g * (height - radius*np.cos(euelrSolution.get('theta')))\n",
    "\n",
    "energy_eulerCromer = mass / 2 *( 0 +radius**2 * np.array(euelrCromerSolution.get('omega'))**2 ) + mass * g * (height - radius* np.cos(euelrCromerSolution.get('theta')))\n",
    "\n",
    "plt.plot(time, energy_euler, label='Euler')\n",
    "plt.plot(time, energy_eulerCromer, label='Euler-Cromer')\n",
    "plt.plot(time, np.zeros(len(time)), label='Zero Energy Level')\n",
    "\n",
    "plt.legend()\n",
    "plt.xlabel('time (sec)')\n",
    "plt.ylabel('total energy (joule)')"
   ]
  },
  {
   "cell_type": "markdown",
   "metadata": {
    "id": "8bqSG1C9fJ7e"
   },
   "source": [
    "The total energy of a system executing simple harmonic motion remains constant i.e. remains conserved. The oscillations seen in the graph are due to the $ r * cos(\\theta)$ term in the potential energy. It is observed that increasing the radius gives more oscillations in the total energy graph.  \n",
    "For small oscillations,\n",
    "$\\sin\\theta$ can be approximated to $\\theta$ and $\\cos\\theta$ as 1.\n",
    "Hence the equation of motion will be:\n",
    "\n",
    "$$\\frac{d^2 \\theta}{dt^2} =  − k \\,\\theta$$ \n"
   ]
  },
  {
   "cell_type": "code",
   "execution_count": null,
   "metadata": {
    "id": "l5c0PgScfJ7e"
   },
   "outputs": [],
   "source": []
  },
  {
   "cell_type": "markdown",
   "metadata": {
    "id": "GKsrXmTufJ7e"
   },
   "source": [
    "##Problem 2: Exploring Liouville's theorem with symplectic integrators\n"
   ]
  },
  {
   "cell_type": "markdown",
   "metadata": {
    "id": "E-_jCRvBfJ7f"
   },
   "source": [
    "### Part A\n",
    "\n",
    "The Euler and Euler-Cromer algorithms define a map from the $n^{th} \\rightarrow (n+1)^{th}$ time steps. For a Simple Harmonic Oscillator (SHO), calculate the Jacobian of the transformation.\n",
    "For this, explain why Euler algorithm is not suitable for solving the Newton's equations of motion? \n"
   ]
  },
  {
   "cell_type": "markdown",
   "metadata": {
    "id": "TjF-AyEAfJ7f"
   },
   "source": [
    "####Solution\n",
    "For a Simple Harmonic Oscillator, Euler algorithm is not suitable for solving Newton's equations of motion because along with inducing error in the solution due to cancellation of higher-order differential terms, it does not conserve the energy of the system. Euler algorithm is unstable since the trajectory produced by the algorithm spirals continually outwards away from the exact solution. This means that the Euler algorithm does not conserve energy. In the SHO problem we saw that in the Euler method, the object’s maximum displacement and maximum speed are steadily increasing, so its total energy must also be increasing.\\\n",
    "According to Liouville’s Theorem, a conservative system (such as simple harmonic oscillator) must preserve the volume (or area) occupied by an ensemble of trajectories in phase space. The system evolves with time and the cluster of points move through phase space but the region containing the points remains constant. \n",
    "In the Euler method, this region in phase space grows in size with the passage of time. \n",
    "For SHO, the transformation in the Euler method is given by the set of below equations:\n",
    "\n",
    "$x_{k+1} = x_k + v_{k}\\Delta t$\\\n",
    "$v_{k+1} = v_k -x_{k} \\frac{k}{m} \\Delta t$ \n",
    "\n",
    "If we treat the above equations as a two-dimensional map, then this map will preserve phase space volume if and only if the Jacobian of the map is equal to unity. The Jacobian of this transformation is given by: \n",
    "\n",
    "$J = \\begin{pmatrix} {\\frac{\\partial x_{n+1}}{\\partial x_{n}}} & {\\frac{\\partial x_{n+1}}{\\partial v_{n}}}\\\\ {\\frac{\\partial v_{n+1}}{\\partial x_{n}}} & {\\frac{\\partial v_{n+1}}{\\partial v_{n}}} \\end{pmatrix}$\n",
    "$= \\begin{pmatrix} 1 & \\Delta t \\\\ -\\frac{k}{m} \\Delta t & 1\\end{pmatrix}$\n",
    "\n",
    "$ = 1+\\frac{k}{m} \\Delta t^2$\n",
    "\n",
    "Thus in contradiction to Liouville’s Theorem, the Euler algorithm does not preserve phase space volume and grows in size with time.\n",
    "Hence it is not suitable for solving Newton's equations of motion.\\\n",
    "The transformation equations for SHO in the case of Euler-Cromer method are given by: \n",
    "\n",
    "\n",
    "$x_{k+1} = x_k + v_{k+1}\\Delta t$\\\n",
    "$v_{k+1} = v_k -x_{k} \\frac{k}{m} \\Delta t$\n",
    "\n",
    "The Jacobian of this transformation is given by: \n",
    "\n",
    "$J = \\begin{pmatrix} {\\frac{\\partial x_{n+1}}{\\partial x_{n}}} & {\\frac{\\partial x_{n+1}}{\\partial v_{n}}}\\\\ {\\frac{\\partial v_{n+1}}{\\partial x_{n}}} & {\\frac{\\partial v_{n+1}}{\\partial v_{n}}} \\end{pmatrix}$\n",
    "$= \\begin{pmatrix} 1-\\frac{k}{m} \\Delta t^2 & \\Delta t \\\\ -\\frac{k}{m} \\Delta t & 1\\end{pmatrix}$\n",
    "$ = 1$\n",
    "\n",
    "\n",
    "Hence Euler-Cromer method preserves the phase space volume and conserves energy for SHO system."
   ]
  },
  {
   "cell_type": "markdown",
   "metadata": {
    "id": "oGheT_hifJ7g"
   },
   "source": [
    "### Part B\n",
    "For an SHO, consider a small square element of phase-space area at $t = 0$ whose corners are labelled A, B, C and D respectively. In this exercise, we would like to follow the area enclosed as the system evolves in time. \n",
    "\n",
    "One way to do this is to evolve the four different initial conditions in time and plot the resultant polygon in the phase-space after regular intervals of time. For a conserved system, we expect this area conserved in time. For a symplectic solver (like Euler-Cromer with a global accuracy of $\\mathcal{O} (\\Delta t)$), this is true. However, this is not for the Euler algorithm.\n",
    "\n",
    "\n",
    "__Alternately__,  consider the trajectory of a cloud of points through phase space. Show that as the cloud stretches in one coordinate – $p$ say – it shrinks in the corresponding ${q}$  direction so that the product ${ \\Delta p\\,\\Delta q} $  remains constant."
   ]
  },
  {
   "cell_type": "markdown",
   "metadata": {
    "id": "kidwRiTUfJ7g"
   },
   "source": [
    "####Solution"
   ]
  },
  {
   "cell_type": "code",
   "execution_count": null,
   "metadata": {
    "id": "Rl2JG0CMfJ7g"
   },
   "outputs": [],
   "source": [
    "def rhs(position, velocity, time):\n",
    "  \n",
    "  #k is the spring constant  \n",
    "  k = 9.8 #N·m−1\n",
    "  m =1.   #mass kg  \n",
    "  return [velocity, -k /m * position]\n",
    "\n",
    "#just name a class to store all functions\n",
    "# this are the same definations frome above\n",
    "#for using the class/object method to make code simple.\n",
    "\n",
    "# as the following code is written with generalized functions \n",
    "# the theta and omega can be and are  used alternatively for position and velocity and vice-versa\n",
    "\n",
    "class Algorithms():\n",
    "  def __init__(self, initCondn , tRange, rhs  ):\n",
    "    self.initCondn = initCondn \n",
    "    self.tRange = tRange   \n",
    "    self.rhs = rhs   \n",
    "\n",
    "  def EulerODE(self):\n",
    "  \n",
    "    dt = self.tRange[2]\n",
    "    time = np.arange(self.tRange[0], self.tRange[1] + dt , dt)\n",
    "    theta = np.zeros(len(time))\n",
    "    omega = np.zeros(len(time))\n",
    "    \n",
    "    theta[0] = self.initCondn[0]\n",
    "    omega[0] = self.initCondn[1]\n",
    "\n",
    "    for i in range(0, len(time)-1):\n",
    "      theta[i+1] = theta[i] + self.rhs(theta[i],omega[i], None )[0] * dt\n",
    "      omega[i+1] = omega[i] + self.rhs(theta[i],omega[i], None )[1] * dt\n",
    "\n",
    "    return theta, omega\n",
    "\n",
    "  def EulerCromerODE(self):\n",
    "    \n",
    "    dt = self.tRange[2]\n",
    "    time = np.arange(self.tRange[0], self.tRange[1] + dt , dt)\n",
    "    theta = np.zeros(len(time))\n",
    "    omega = np.zeros(len(time))\n",
    "    \n",
    "    theta[0] = self.initCondn[0]\n",
    "    omega[0] = self.initCondn[1]\n",
    "\n",
    "    for i in range(0, len(time)-1):\n",
    "      omega[i+1] = omega[i] + self.rhs( theta[i], omega[i] , None )[1] * dt\n",
    "      theta[i+1] = theta[i] + self.rhs( theta[i+1], omega[i+1] , None )[0] * dt\n",
    "    return theta, omega\n",
    "\n",
    "\n",
    " \n"
   ]
  },
  {
   "cell_type": "markdown",
   "metadata": {
    "id": "8NzUewXLfJ7g"
   },
   "source": [
    "##### Euler Method"
   ]
  },
  {
   "cell_type": "code",
   "execution_count": null,
   "metadata": {
    "colab": {
     "base_uri": "https://localhost:8080/",
     "height": 835
    },
    "id": "siRwig0ofJ7h",
    "outputId": "4265077b-d322-4c54-f07a-c677f3ba73c1"
   },
   "outputs": [],
   "source": [
    "time_0 = 0 \n",
    "time_max = 5\n",
    "time_step = 1/10 # 10th part of a second \n",
    "\n",
    "position = 0.3 # meters\n",
    "velocity = 0.3 # m/s\n",
    "dp = 0.1\n",
    "\n",
    "\n",
    "#all the values are sored in dictionary.\n",
    "phaseSpace = {}\n",
    "\n",
    "#giving initial values to A,B,C,D \n",
    "position_0 = position \n",
    "velocity_0 = 0                 \n",
    "AinitCondn = [position_0, velocity_0]\n",
    "\n",
    "position_0 = 2*position\n",
    "velocity_0 = 0                    \n",
    "BinitCondn = [position_0, velocity_0]\n",
    "\n",
    "position_0 = 2 * position\n",
    "velocity_0 = 1 * velocity                \n",
    "CinitCondn = [position_0, velocity_0]\n",
    "\n",
    "\n",
    "position_0 = 1*position\n",
    "velocity_0 = 1*velocity                 \n",
    "DinitCondn = [position_0, velocity_0]\n",
    "\n",
    "tRange = [time_0, time_max, time_step]\n",
    "dt = tRange[2]\n",
    "time = np.arange(tRange[0], tRange[1] + dt , dt)\n",
    "\n",
    "A = Algorithms(AinitCondn, tRange, rhs)\n",
    "B = Algorithms(BinitCondn, tRange, rhs)\n",
    "C = Algorithms(CinitCondn, tRange, rhs)\n",
    "D = Algorithms(DinitCondn, tRange, rhs)\n",
    "\n",
    "\n",
    "# all lines below are just to make the plots.\n",
    "fig = plt.figure()\n",
    "\n",
    "lable = label('A','position (meters)','velocity (m/s)','o')\n",
    "phaseSpace['A_theta'],phaseSpace['A_omega'] = theta, omega = A.EulerODE()\n",
    "g3.multiPlot(theta, omega,lable)\n",
    "\n",
    "lable = label('B','position (meters)','velocity (m/s)','o')\n",
    "phaseSpace['B_theta'],phaseSpace['B_omega'] = theta, omega = B.EulerODE()\n",
    "g3.multiPlot(theta, omega,lable)\n",
    "\n",
    "lable = label('C','position (meters)','velocity (m/s)','o')\n",
    "phaseSpace['C_theta'],phaseSpace['C_omega'] = theta, omega = C.EulerODE()\n",
    "g3.multiPlot(theta, omega,lable)\n",
    "\n",
    "lable = label('D','position (meters)','velocity (m/s)','o')\n",
    "phaseSpace['D_theta'],phaseSpace['D_omega'] = theta, omega = D.EulerODE()\n",
    "g3.multiPlot(theta, omega,lable)\n",
    "\n",
    "skip = 5\n",
    "x = []\n",
    "y = []\n",
    "areaE = list()\n",
    "fig = plt.figure()\n",
    "#plt.axes(xlim=(-5,5), ylim=(-5,5))\n",
    "plt.figsize=(10,10)\n",
    "\n",
    "#This follow definations is to find are of any polygon.\n",
    "#Only this folling 2 lines taken from online Q/A source (stackoverflow).\n",
    "def PolyArea(x,y):\n",
    "    return 0.5*np.abs(np.dot(x,np.roll(y,1))-np.dot(y,np.roll(x,1)))\n",
    "#---\n",
    "\n",
    "for i in range(0,len(phaseSpace['A_theta']), skip):\n",
    "  x =  [phaseSpace['A_theta'][i],phaseSpace['B_theta'][i],phaseSpace['C_theta'][i],phaseSpace['D_theta'][i],phaseSpace['A_theta'][i]]\n",
    "  y = [phaseSpace['A_omega'][i],phaseSpace['B_omega'][i],phaseSpace['C_omega'][i],phaseSpace['D_omega'][i],phaseSpace['A_omega'][i]]  \n",
    "  areaE.append(PolyArea(x[:4],y[:4]))\n",
    "  plt.plot(x,y,'--r')\n",
    "  plt.plot(x,y,'*b')\n",
    "\n",
    "plt.xlabel('position (meters)')\n",
    "plt.ylabel('velocity (m/s)')\n",
    "plt.title('area elements')\n",
    "plt.show()\n",
    "\n",
    "skip = 5\n",
    "for i in range(0,len(phaseSpace['A_theta']), skip):\n",
    "  x =  [phaseSpace['A_theta'][i],phaseSpace['B_theta'][i],phaseSpace['C_theta'][i],phaseSpace['D_theta'][i],phaseSpace['A_theta'][i]]\n",
    "  y = [phaseSpace['A_omega'][i],phaseSpace['B_omega'][i],phaseSpace['C_omega'][i],phaseSpace['D_omega'][i],phaseSpace['A_omega'][i]]  \n",
    "  plt.fill(x[:4],y[:4])\n",
    "\n",
    "lable = label('A','position (meters)','velocity (m/s)','o')\n",
    "phaseSpace['A_theta'],phaseSpace['A_omega'] = theta, omega = A.EulerODE()\n",
    "g3.multiPlot(theta, omega,lable)\n",
    "\n",
    "lable = label('B','position (meters)','velocity (m/s)','o')\n",
    "phaseSpace['B_theta'],phaseSpace['B_omega'] = theta, omega = B.EulerODE()\n",
    "g3.multiPlot(theta, omega,lable)\n",
    "\n",
    "lable = label('C','position (meters)','velocity (m/s)','o')\n",
    "phaseSpace['C_theta'],phaseSpace['C_omega'] = theta, omega = C.EulerODE()\n",
    "g3.multiPlot(theta, omega,lable)\n",
    "\n",
    "lable = label('D','position (meters)','velocity (m/s)','o')\n",
    "phaseSpace['D_theta'],phaseSpace['D_omega'] = theta, omega = D.EulerODE()\n",
    "g3.multiPlot(theta, omega,lable)\n",
    "\n",
    "plt.title('Phase Space with area element: euler method')\n",
    "plt.show()"
   ]
  },
  {
   "cell_type": "markdown",
   "metadata": {
    "id": "8jf80hcUfJ7m"
   },
   "source": [
    "##### Euler Cromer Method"
   ]
  },
  {
   "cell_type": "code",
   "execution_count": null,
   "metadata": {
    "colab": {
     "base_uri": "https://localhost:8080/",
     "height": 835
    },
    "id": "4SMjJHTGfJ7r",
    "outputId": "b2468e5e-430a-49e5-a5f6-d157858e3cdc"
   },
   "outputs": [],
   "source": [
    "\n",
    "lable = label('A','position (meters)','velocity (m/s)','o')\n",
    "phaseSpace['A_theta'],phaseSpace['A_omega'] = theta, omega = A.EulerCromerODE()\n",
    "g3.multiPlot(theta, omega,lable)\n",
    "\n",
    "lable = label('B','position (meters)','velocity (m/s)','o')\n",
    "phaseSpace['B_theta'],phaseSpace['B_omega'] = theta, omega = B.EulerCromerODE()\n",
    "g3.multiPlot(theta, omega,lable)\n",
    "\n",
    "lable = label('C','position (meters)','velocity (m/s)','o')\n",
    "phaseSpace['C_theta'],phaseSpace['C_omega'] = theta, omega = C.EulerCromerODE()\n",
    "g3.multiPlot(theta, omega,lable)\n",
    "\n",
    "lable = label('D','position (meters)','velocity (m/s)','o')\n",
    "phaseSpace['D_theta'],phaseSpace['D_omega'] = theta, omega = D.EulerCromerODE()\n",
    "g3.multiPlot(theta, omega,lable)\n",
    "\n",
    "skip = 5\n",
    "x = []\n",
    "y = []\n",
    "areaEC = list()\n",
    "fig = plt.figure()\n",
    "plt.axes(xlim=(-2,2), ylim=(-2,2))\n",
    "plt.figsize=(10,10)\n",
    "\n",
    "def PolyArea(x,y):\n",
    "    return 0.5*np.abs(np.dot(x,np.roll(y,1))-np.dot(y,np.roll(x,1)))\n",
    "\n",
    "for i in range(0,len(phaseSpace['A_theta']), skip):\n",
    "  x =  [phaseSpace['A_theta'][i],phaseSpace['B_theta'][i],phaseSpace['C_theta'][i],phaseSpace['D_theta'][i],phaseSpace['A_theta'][i]]\n",
    "  y = [phaseSpace['A_omega'][i],phaseSpace['B_omega'][i],phaseSpace['C_omega'][i],phaseSpace['D_omega'][i],phaseSpace['A_omega'][i]]  \n",
    "  areaEC.append(PolyArea(x[:4],y[:4]))\n",
    "  plt.plot(x,y,'--r')\n",
    "  plt.plot(x,y,'*b')\n",
    "plt.xlabel('position (meters)')\n",
    "plt.ylabel('velocity (m/s)')\n",
    "plt.title('area elements')\n",
    "plt.show()\n",
    "for i in range(0,len(phaseSpace['A_theta']), skip):\n",
    "  x =  [phaseSpace['A_theta'][i],phaseSpace['B_theta'][i],phaseSpace['C_theta'][i],phaseSpace['D_theta'][i],phaseSpace['A_theta'][i]]\n",
    "  y = [phaseSpace['A_omega'][i],phaseSpace['B_omega'][i],phaseSpace['C_omega'][i],phaseSpace['D_omega'][i],phaseSpace['A_omega'][i]]  \n",
    "  plt.fill(x[:4],y[:4])\n",
    "\n",
    "lable = label('A','position (meters)','velocity (m/s)','o')\n",
    "phaseSpace['A_theta'],phaseSpace['A_omega'] = theta, omega = A.EulerCromerODE()\n",
    "g3.multiPlot(theta, omega,lable)\n",
    "\n",
    "lable = label('B','position (meters)','velocity (m/s)','o')\n",
    "phaseSpace['B_theta'],phaseSpace['B_omega'] = theta, omega = B.EulerCromerODE()\n",
    "g3.multiPlot(theta, omega,lable)\n",
    "\n",
    "lable = label('C','position (meters)','velocity (m/s)','o')\n",
    "phaseSpace['C_theta'],phaseSpace['C_omega'] = theta, omega = C.EulerCromerODE()\n",
    "g3.multiPlot(theta, omega,lable)\n",
    "\n",
    "lable = label('D','position (meters)','velocity (m/s)','o')\n",
    "phaseSpace['D_theta'],phaseSpace['D_omega'] = theta, omega = D.EulerCromerODE()\n",
    "g3.multiPlot(theta, omega,lable)\n",
    "\n",
    "plt.title('Phase Space with area element : Eueler Cromer method')\n",
    "plt.show()"
   ]
  },
  {
   "cell_type": "code",
   "execution_count": null,
   "metadata": {
    "colab": {
     "base_uri": "https://localhost:8080/",
     "height": 281
    },
    "id": "TxFWJsVnfJ7r",
    "outputId": "b691ac6c-9f03-40ed-d716-25c8008301b3"
   },
   "outputs": [],
   "source": [
    "#The area is not calculated for all elements just for the coloured ones above.\n",
    "plt.plot(range(len(areaEC)),areaEC,'-g',label =\"Euler Cromer , max = {0} m^2\".format(round(max(areaEC),2)))\n",
    "plt.plot(range(len(areaE)),areaE,'--r',label =\"Euler, max = {0} m^2\".format(round(max(areaE),2)))\n",
    "plt.legend()\n",
    "plt.xlabel('area element taken as time passes')\n",
    "plt.ylabel('area (m^2)')\n",
    "plt.show()"
   ]
  },
  {
   "cell_type": "markdown",
   "metadata": {
    "id": "D5Xivdq-fJ7r"
   },
   "source": [
    "The area elements generated by choosing four initial conditions and evolving (numerically solving) in time results in an increasing area when the Euler method is used.\n",
    "and when we use the Euler cromer method the area is conserved.\n"
   ]
  },
  {
   "cell_type": "markdown",
   "metadata": {
    "id": "vmu7WRS3fJ7s"
   },
   "source": [
    "##Problem 3: Linearly-damped harmonic oscillator"
   ]
  },
  {
   "cell_type": "markdown",
   "metadata": {
    "id": "kta2rQGTfJ7s"
   },
   "source": [
    "In the real world, all classical harmonic oscillators have some form of damping that converts their mechanical energy into heat and eventually brings the system to rest. The simplest way to represent such an effect is to add a linear term $−by$ to the simple harmonic oscillator corresponding to a frictional force that is proportional to the velocity, \n",
    "\\begin{eqnarray}\n",
    "\\dot{x} &=& v, \\\\\n",
    "\\dot{v} &=& -x.\n",
    "\\end{eqnarray}\n",
    "\n",
    "The resulting system is called a damped harmonic oscillator, and b (if positive) is the damping constant. It describes the exponential rate at which orbits spiral into the origin of the phase-space at $(0,0)$ and is related to the $Q$ (quality factor) of the oscillator by $b = 1/Q$. The $Q$ of an oscillator is the number of radians of oscillation required for the energy to decay to $1/e$ of its original value. A system with $Q = 1/2$ (or $b = 2$) is critically damped, and smaller values of $Q$ (or $b > 2$) do not oscillate, but they rapidly approach the origin.\n",
    "\n",
    "It seems that it should be possible to eliminate the $b$ in above by a linear rescaling of $x$, $v$, and $t$, but that cannot be done as simple algebra shows. \n",
    "\n",
    "This system is special in that it has _two distinct time-scales_, the damping rate and the frequency of oscillation, and the parameter $b$ controls their ratio.\n",
    "\n",
    "Write a code to plot $x(t)$, $v(t)$ and phase-space trajectories for different values of the quality factor (demonstrating underdamped, critically damped and overdamped behaviour of this oscillator). Use both the Euler and Euler-Cromer algorithms. Write down an expression for the determinant of the Jacobian $J$ that maps $(x_n, v_n) \\rightarrow (x_{n+1}, v_{n+1})$ in both the cases.\n",
    "\n",
    "The damped harmonic oscillator is an example of a _dissipative system_. For $b>0$ is it time-reversible? Explain your answer.\n",
    "\n"
   ]
  },
  {
   "cell_type": "markdown",
   "metadata": {
    "id": "JVA9Im4MfJ7s"
   },
   "source": [
    "#### SOLUTION:\n",
    "We are solving  $\\frac{d^2x}{dt^2}= −\\frac{k}{m}x -bv$\\\n",
    "We can vectorize it in the form\n",
    "\n",
    "$$ \\frac{d \\vec y}{dt} = \\vec f$$\n",
    "\n",
    "Explicitly:\n",
    "$$\n",
    "\\frac{d}{dt}\n",
    "\\begin{bmatrix}\n",
    "x \\\\\n",
    "v\n",
    "\\end{bmatrix}\n",
    "=\n",
    "\\begin{bmatrix}\n",
    "v \\\\\n",
    "-\\frac{k}{m}x - bv\n",
    "\\end{bmatrix}\n",
    "$$\n",
    "\n",
    "For Damped SHO, the tranformation in Euler method is given by the set of below equations:\n",
    "\n",
    "$x_{k+1} = x_k + v_{k}\\Delta t$\\\n",
    "$v_{k+1} = v_k -x_{k} \\frac{k}{m} \\Delta t -bv_k \\Delta t$ \n",
    "\n",
    "The Jacobian of this transformation is given by: \n",
    "\n",
    "$J = \\begin{pmatrix} {\\frac{\\partial x_{n+1}}{\\partial x_{n}}} & {\\frac{\\partial x_{n+1}}{\\partial v_{n}}}\\\\ {\\frac{\\partial v_{n+1}}{\\partial x_{n}}} & {\\frac{\\partial v_{n+1}}{\\partial v_{n}}} \\end{pmatrix}$\n",
    "$= \\begin{pmatrix} 1 & \\Delta t \\\\ -\\frac{k}{m} \\Delta t & 1 - b\\Delta t\\end{pmatrix}$\n",
    "\n",
    "$ = 1- b\\Delta t+\\frac{k}{m} \\Delta t^2$\n",
    "\n",
    "The transformation equations for SHO in the case of Euler-Cromer method are given by: \n",
    "\n",
    "$x_{k+1} = x_k + v_{k+1}\\Delta t$\\\n",
    "$v_{k+1} = v_k -x_{k} \\frac{k}{m} \\Delta t-bv_k \\Delta t$\n",
    "\n",
    "The Jacobian of this transformation is given by: \n",
    "\n",
    "$J = \\begin{pmatrix} {\\frac{\\partial x_{n+1}}{\\partial x_{n}}} & {\\frac{\\partial x_{n+1}}{\\partial v_{n}}}\\\\ {\\frac{\\partial v_{n+1}}{\\partial x_{n}}} & {\\frac{\\partial v_{n+1}}{\\partial v_{n}}} \\end{pmatrix}$\n",
    "$= \\begin{pmatrix} 1-\\frac{k}{m} \\Delta t^2 & \\Delta t-b\\Delta t^2 \\\\ -\\frac{k}{m} \\Delta t & 1-b\\Delta t\\end{pmatrix}$\n",
    "\n",
    "$ = 1-b\\Delta t$\n",
    "\n",
    "Hence we can say that Euler-Cromer does not preserve the energy for damped oscillator system due to which we need to use other numerical methods to get a more accurate result.\n",
    "\n",
    "The solution is an exponentially decaying with time. Reversing time will make it an exponentially growing function. \n",
    "\n",
    "Hence we can say that it is not time reversible."
   ]
  },
  {
   "cell_type": "code",
   "execution_count": null,
   "metadata": {
    "id": "AZmlVP_8fJ7s"
   },
   "outputs": [],
   "source": [
    "\n",
    "# This is the defination for SHO with drag.\n",
    "def a(xk,vk,t,):\n",
    "  mass = 1 #kg\n",
    "  k = 1 # spring constant\n",
    "  b = 1/quality_factor # ve are varing value of b\n",
    "  return -1/mass* k* xk - b * vk\n",
    "\n",
    "# just the same definitions above again to make each solution self compiles\n",
    "\n",
    "def rhs(xk,vk,tk):\n",
    "\n",
    "  return [vk, a(xk,vk,tk)]\n",
    "\n",
    "\n",
    "def EulerODE(initCondn, tRange, rhs):\n",
    " \n",
    "  dt = tRange[2]\n",
    "  time = np.arange(tRange[0], tRange[1] + dt , dt)\n",
    "  \n",
    "  position = np.zeros(len(time))\n",
    "  velocity = np.zeros(len(time))\n",
    "  \n",
    "  position[0] = initCondn[0]\n",
    "  velocity[0] = initCondn[1]\n",
    "\n",
    "  for i in range(0, len(time)-1):\n",
    "    position[i+1] = position[i] + rhs(position[i],velocity[i], None )[0] * dt\n",
    "    velocity[i+1] = velocity[i] + rhs(position[i],velocity[i], None )[1] * dt\n",
    "\n",
    "  return position, velocity\n",
    "\n",
    "\n",
    "def EulerCromerODE(initCondn, tRange, rhs):\n",
    "  \n",
    "  dt = tRange[2]\n",
    "  time = np.arange(tRange[0], tRange[1] + dt , dt)\n",
    "  position = np.zeros(len(time))\n",
    "  velocity = np.zeros(len(time))\n",
    "  \n",
    "  position[0] = initCondn[0]\n",
    "  velocity[0] = initCondn[1]\n",
    "\n",
    "  for i in range(0, len(time)-1):\n",
    "    velocity[i+1] = velocity[i] + rhs(position[i],velocity[i], None )[1] * dt\n",
    "    position[i+1] = position[i] + rhs(position[i+1],velocity[i+1], None )[0] * dt\n",
    "\n",
    "  return position, velocity\n"
   ]
  },
  {
   "cell_type": "code",
   "execution_count": null,
   "metadata": {
    "colab": {
     "base_uri": "https://localhost:8080/",
     "height": 803
    },
    "id": "H3GTNIw_fJ7s",
    "outputId": "90dc90d6-9c05-48d3-b698-43622ad70060"
   },
   "outputs": [],
   "source": [
    "\n",
    "time_0 = 0 \n",
    "time_max = 50\n",
    "time_step = 1/10 # 10th part of a second \n",
    "\n",
    "position_0 = 5 # in meters difference from rest position\n",
    "velocity_0 = 0        # angular velocity            \n",
    "\n",
    "initCondn = [position_0, velocity_0]\n",
    "tRange = [time_0, time_max, time_step]\n",
    "\n",
    "dt = tRange[2]\n",
    "time = np.arange(tRange[0], tRange[1] + dt , dt)\n",
    "\n",
    "quality_factor = 1\n",
    "position1, velocity1 = EulerODE(initCondn, tRange, rhs)\n",
    "\n",
    "quality_factor = 2\n",
    "position2, velocity2 = EulerODE(initCondn, tRange, rhs)\n",
    "\n",
    "quality_factor = 3\n",
    "position3, velocity3 = EulerODE(initCondn, tRange, rhs)\n",
    "\n",
    "lable = label('Q = 1','angle(rad)','Angular velocity (rad/s)','--')\n",
    "g3.newPlot(position1, velocity1,lable)\n",
    "lable = label('Q = 2','angle(rad)','Angular velocity (rad/s)','--')\n",
    "g3.multiPlot(position2, velocity2,lable)\n",
    "lable = label('Q = 3','angle(rad)','Angular velocity (rad/s)','--')\n",
    "g3.multiPlot(position3, velocity3,lable)\n",
    "plt.plot(position_0,velocity_0,'*r')\n",
    "\n",
    "lable = label('Q = 1','time(s)','Angular velocity (rad/s)','--')\n",
    "g3.newPlot(time, velocity1,lable)\n",
    "lable = label('Q = 2','time(s)','Angular velocity (rad/s)','--')\n",
    "g3.multiPlot(time, velocity2,lable)\n",
    "lable = label('Q = 3','time(s)','Angular velocity (rad/s)','--')\n",
    "g3.multiPlot(time, velocity3,lable)\n",
    "\n",
    "lable = label('Q = 1','time(s)','angle(rad)','--')\n",
    "g3.newPlot(time, position1,lable)\n",
    "lable = label('Q = 2','time(s)','angle(rad)','--')\n",
    "g3.multiPlot(time, position2,lable)\n",
    "lable = label('Q = 3','time(s)','angle(rad)','--')\n",
    "g3.multiPlot(time, position3,lable)"
   ]
  },
  {
   "cell_type": "markdown",
   "metadata": {
    "id": "zfx4ShT_dW5Q"
   },
   "source": [
    "#####Interactive solutions"
   ]
  },
  {
   "cell_type": "code",
   "execution_count": null,
   "metadata": {
    "colab": {
     "base_uri": "https://localhost:8080/",
     "height": 407,
     "referenced_widgets": [
      "66cec94e4192488187e54f4f908bc9bc",
      "c24c25d3139840db8a7d3b3450b60dcf",
      "006ce7eb2cbc44afb9cf0821b91f4b9f",
      "995dff9418fc42489c14c0ca364bf4a2",
      "12d658f4a6e549ca8f3bfdbcb2013639",
      "c7f6dcc80cbe4bcb9aef703259f02d04",
      "198463d419d14fa19e441c896e9c310f",
      "59c1a4beb9824a6aa516be207798a38a",
      "69354814c6c94bc09438ba004ba54642",
      "261f315a274d4764a1bf500a1b0b8490",
      "649433d16ece4d369865cba08b15579b",
      "1cf3a4dbe48e4078948b885201603ff9",
      "669b4e79495e450dbfaf05ad1a8508a7",
      "1397b57efa3846d381554666b6475dcb",
      "b2072953a1984564b0ff2d2ab83c1333",
      "01b3196935804e59936b0bf129d4e714"
     ]
    },
    "id": "-dLaH_ANfJ7t",
    "outputId": "57079233-2f6c-415a-cefd-af7c1c846e08"
   },
   "outputs": [],
   "source": [
    "\n",
    "def a(xk,vk,t):\n",
    "  mass = mass_i.value #kg\n",
    "  k = spring_const_i.value # spring constant\n",
    "  b = 1/quality_factor_i.value\n",
    "  return -1/mass* k* xk - b * vk\n",
    "\n",
    "\n",
    "time_0 = 0 \n",
    "time_max = 20\n",
    "time_step = 1/10 # 10th part of a second \n",
    "tRange = [time_0, time_max, time_step]\n",
    "dt = tRange[2]\n",
    "time = np.arange(tRange[0], tRange[1] + dt , dt)\n",
    "\n",
    "#--\n",
    "# Defining the variables. \n",
    "\n",
    "#definations made for interactive plot.\n",
    "def update_plot(mass,spring_const,quality_factor,position_0):\n",
    "\n",
    "  initCondn = [position_0, velocity_0]\n",
    "  position, velocity = EulerODE(initCondn, tRange, rhs)\n",
    "  position_EC, velocity_EC = EulerCromerODE(initCondn, tRange, rhs)\n",
    "\n",
    "  L = label('for EulerODE Q = {0}'.format(quality_factor),'Position (meters)','velocity (meters/sec)','-r')\n",
    "  g3.multiPlot(position, velocity, L )\n",
    "  plt.plot(position[0], velocity[0], '*r' )\n",
    "  \n",
    "  L = label('for EulerCromerODE Q = {0}'.format(quality_factor),'Position (meters)','velocity (meters/sec)','-k')\n",
    "  g3.multiPlot(position_EC, velocity_EC, L )\n",
    "\n",
    "#making slider \n",
    "mass_i = widgets.FloatSlider(min=0, max=10, value=1,step = 0.5 , description = 'Mass (kg) : ')\n",
    "spring_const_i = widgets.FloatSlider(min=0, max=10, value=1,step = 0.5 , description = 'Spring Constant : ')\n",
    "quality_factor_i = widgets.FloatSlider(min=0.1, max=3, value=1,step = 0.2 , description = 'Quality factor : ')\n",
    "position_0_i = widgets.FloatSlider(min=0, max=10, value=1,step = 0.5 , description = 'Initial position from rest (meters) : ')\n",
    "#Starting the intractive session\n",
    "widgets.interactive(update_plot,mass = mass_i, spring_const =spring_const_i ,quality_factor = quality_factor_i,position_0=position_0_i)\n"
   ]
  }
 ],
 "metadata": {
  "colab": {
   "collapsed_sections": [],
   "include_colab_link": true,
   "name": "LAB 2.ipynb",
   "provenance": [],
   "toc_visible": true
  },
  "kernelspec": {
   "display_name": "Python 3",
   "language": "python",
   "name": "python3"
  },
  "language_info": {
   "codemirror_mode": {
    "name": "ipython",
    "version": 3
   },
   "file_extension": ".py",
   "mimetype": "text/x-python",
   "name": "python",
   "nbconvert_exporter": "python",
   "pygments_lexer": "ipython3",
   "version": "3.10.9"
  },
  "vscode": {
   "interpreter": {
    "hash": "e7370f93d1d0cde622a1f8e1c04877d8463912d04d973331ad4851f04de6915a"
   }
  },
  "widgets": {
   "application/vnd.jupyter.widget-state+json": {
    "006ce7eb2cbc44afb9cf0821b91f4b9f": {
     "model_module": "@jupyter-widgets/controls",
     "model_name": "FloatSliderModel",
     "state": {
      "_dom_classes": [],
      "_model_module": "@jupyter-widgets/controls",
      "_model_module_version": "1.5.0",
      "_model_name": "FloatSliderModel",
      "_view_count": null,
      "_view_module": "@jupyter-widgets/controls",
      "_view_module_version": "1.5.0",
      "_view_name": "FloatSliderView",
      "continuous_update": true,
      "description": "Mass (kg) : ",
      "description_tooltip": null,
      "disabled": false,
      "layout": "IPY_MODEL_69354814c6c94bc09438ba004ba54642",
      "max": 10,
      "min": 0,
      "orientation": "horizontal",
      "readout": true,
      "readout_format": ".2f",
      "step": 0.5,
      "style": "IPY_MODEL_59c1a4beb9824a6aa516be207798a38a",
      "value": 1
     }
    },
    "01b3196935804e59936b0bf129d4e714": {
     "model_module": "@jupyter-widgets/base",
     "model_name": "LayoutModel",
     "state": {
      "_model_module": "@jupyter-widgets/base",
      "_model_module_version": "1.2.0",
      "_model_name": "LayoutModel",
      "_view_count": null,
      "_view_module": "@jupyter-widgets/base",
      "_view_module_version": "1.2.0",
      "_view_name": "LayoutView",
      "align_content": null,
      "align_items": null,
      "align_self": null,
      "border": null,
      "bottom": null,
      "display": null,
      "flex": null,
      "flex_flow": null,
      "grid_area": null,
      "grid_auto_columns": null,
      "grid_auto_flow": null,
      "grid_auto_rows": null,
      "grid_column": null,
      "grid_gap": null,
      "grid_row": null,
      "grid_template_areas": null,
      "grid_template_columns": null,
      "grid_template_rows": null,
      "height": null,
      "justify_content": null,
      "justify_items": null,
      "left": null,
      "margin": null,
      "max_height": null,
      "max_width": null,
      "min_height": null,
      "min_width": null,
      "object_fit": null,
      "object_position": null,
      "order": null,
      "overflow": null,
      "overflow_x": null,
      "overflow_y": null,
      "padding": null,
      "right": null,
      "top": null,
      "visibility": null,
      "width": null
     }
    },
    "12d658f4a6e549ca8f3bfdbcb2013639": {
     "model_module": "@jupyter-widgets/controls",
     "model_name": "FloatSliderModel",
     "state": {
      "_dom_classes": [],
      "_model_module": "@jupyter-widgets/controls",
      "_model_module_version": "1.5.0",
      "_model_name": "FloatSliderModel",
      "_view_count": null,
      "_view_module": "@jupyter-widgets/controls",
      "_view_module_version": "1.5.0",
      "_view_name": "FloatSliderView",
      "continuous_update": true,
      "description": "Quality factor : ",
      "description_tooltip": null,
      "disabled": false,
      "layout": "IPY_MODEL_669b4e79495e450dbfaf05ad1a8508a7",
      "max": 3,
      "min": 0.1,
      "orientation": "horizontal",
      "readout": true,
      "readout_format": ".2f",
      "step": 0.2,
      "style": "IPY_MODEL_1cf3a4dbe48e4078948b885201603ff9",
      "value": 1
     }
    },
    "1397b57efa3846d381554666b6475dcb": {
     "model_module": "@jupyter-widgets/controls",
     "model_name": "SliderStyleModel",
     "state": {
      "_model_module": "@jupyter-widgets/controls",
      "_model_module_version": "1.5.0",
      "_model_name": "SliderStyleModel",
      "_view_count": null,
      "_view_module": "@jupyter-widgets/base",
      "_view_module_version": "1.2.0",
      "_view_name": "StyleView",
      "description_width": "",
      "handle_color": null
     }
    },
    "198463d419d14fa19e441c896e9c310f": {
     "model_module": "@jupyter-widgets/output",
     "model_name": "OutputModel",
     "state": {
      "_dom_classes": [],
      "_model_module": "@jupyter-widgets/output",
      "_model_module_version": "1.0.0",
      "_model_name": "OutputModel",
      "_view_count": null,
      "_view_module": "@jupyter-widgets/output",
      "_view_module_version": "1.0.0",
      "_view_name": "OutputView",
      "layout": "IPY_MODEL_01b3196935804e59936b0bf129d4e714",
      "msg_id": "",
      "outputs": [
       {
        "image/png": "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\n",
        "metadata": {
         "needs_background": "light",
         "tags": []
        },
        "output_type": "display_data",
        "text/plain": "<Figure size 432x288 with 1 Axes>"
       }
      ]
     }
    },
    "1cf3a4dbe48e4078948b885201603ff9": {
     "model_module": "@jupyter-widgets/controls",
     "model_name": "SliderStyleModel",
     "state": {
      "_model_module": "@jupyter-widgets/controls",
      "_model_module_version": "1.5.0",
      "_model_name": "SliderStyleModel",
      "_view_count": null,
      "_view_module": "@jupyter-widgets/base",
      "_view_module_version": "1.2.0",
      "_view_name": "StyleView",
      "description_width": "",
      "handle_color": null
     }
    },
    "261f315a274d4764a1bf500a1b0b8490": {
     "model_module": "@jupyter-widgets/controls",
     "model_name": "SliderStyleModel",
     "state": {
      "_model_module": "@jupyter-widgets/controls",
      "_model_module_version": "1.5.0",
      "_model_name": "SliderStyleModel",
      "_view_count": null,
      "_view_module": "@jupyter-widgets/base",
      "_view_module_version": "1.2.0",
      "_view_name": "StyleView",
      "description_width": "",
      "handle_color": null
     }
    },
    "59c1a4beb9824a6aa516be207798a38a": {
     "model_module": "@jupyter-widgets/controls",
     "model_name": "SliderStyleModel",
     "state": {
      "_model_module": "@jupyter-widgets/controls",
      "_model_module_version": "1.5.0",
      "_model_name": "SliderStyleModel",
      "_view_count": null,
      "_view_module": "@jupyter-widgets/base",
      "_view_module_version": "1.2.0",
      "_view_name": "StyleView",
      "description_width": "",
      "handle_color": null
     }
    },
    "649433d16ece4d369865cba08b15579b": {
     "model_module": "@jupyter-widgets/base",
     "model_name": "LayoutModel",
     "state": {
      "_model_module": "@jupyter-widgets/base",
      "_model_module_version": "1.2.0",
      "_model_name": "LayoutModel",
      "_view_count": null,
      "_view_module": "@jupyter-widgets/base",
      "_view_module_version": "1.2.0",
      "_view_name": "LayoutView",
      "align_content": null,
      "align_items": null,
      "align_self": null,
      "border": null,
      "bottom": null,
      "display": null,
      "flex": null,
      "flex_flow": null,
      "grid_area": null,
      "grid_auto_columns": null,
      "grid_auto_flow": null,
      "grid_auto_rows": null,
      "grid_column": null,
      "grid_gap": null,
      "grid_row": null,
      "grid_template_areas": null,
      "grid_template_columns": null,
      "grid_template_rows": null,
      "height": null,
      "justify_content": null,
      "justify_items": null,
      "left": null,
      "margin": null,
      "max_height": null,
      "max_width": null,
      "min_height": null,
      "min_width": null,
      "object_fit": null,
      "object_position": null,
      "order": null,
      "overflow": null,
      "overflow_x": null,
      "overflow_y": null,
      "padding": null,
      "right": null,
      "top": null,
      "visibility": null,
      "width": null
     }
    },
    "669b4e79495e450dbfaf05ad1a8508a7": {
     "model_module": "@jupyter-widgets/base",
     "model_name": "LayoutModel",
     "state": {
      "_model_module": "@jupyter-widgets/base",
      "_model_module_version": "1.2.0",
      "_model_name": "LayoutModel",
      "_view_count": null,
      "_view_module": "@jupyter-widgets/base",
      "_view_module_version": "1.2.0",
      "_view_name": "LayoutView",
      "align_content": null,
      "align_items": null,
      "align_self": null,
      "border": null,
      "bottom": null,
      "display": null,
      "flex": null,
      "flex_flow": null,
      "grid_area": null,
      "grid_auto_columns": null,
      "grid_auto_flow": null,
      "grid_auto_rows": null,
      "grid_column": null,
      "grid_gap": null,
      "grid_row": null,
      "grid_template_areas": null,
      "grid_template_columns": null,
      "grid_template_rows": null,
      "height": null,
      "justify_content": null,
      "justify_items": null,
      "left": null,
      "margin": null,
      "max_height": null,
      "max_width": null,
      "min_height": null,
      "min_width": null,
      "object_fit": null,
      "object_position": null,
      "order": null,
      "overflow": null,
      "overflow_x": null,
      "overflow_y": null,
      "padding": null,
      "right": null,
      "top": null,
      "visibility": null,
      "width": null
     }
    },
    "66cec94e4192488187e54f4f908bc9bc": {
     "model_module": "@jupyter-widgets/controls",
     "model_name": "VBoxModel",
     "state": {
      "_dom_classes": [
       "widget-interact"
      ],
      "_model_module": "@jupyter-widgets/controls",
      "_model_module_version": "1.5.0",
      "_model_name": "VBoxModel",
      "_view_count": null,
      "_view_module": "@jupyter-widgets/controls",
      "_view_module_version": "1.5.0",
      "_view_name": "VBoxView",
      "box_style": "",
      "children": [
       "IPY_MODEL_006ce7eb2cbc44afb9cf0821b91f4b9f",
       "IPY_MODEL_995dff9418fc42489c14c0ca364bf4a2",
       "IPY_MODEL_12d658f4a6e549ca8f3bfdbcb2013639",
       "IPY_MODEL_c7f6dcc80cbe4bcb9aef703259f02d04",
       "IPY_MODEL_198463d419d14fa19e441c896e9c310f"
      ],
      "layout": "IPY_MODEL_c24c25d3139840db8a7d3b3450b60dcf"
     }
    },
    "69354814c6c94bc09438ba004ba54642": {
     "model_module": "@jupyter-widgets/base",
     "model_name": "LayoutModel",
     "state": {
      "_model_module": "@jupyter-widgets/base",
      "_model_module_version": "1.2.0",
      "_model_name": "LayoutModel",
      "_view_count": null,
      "_view_module": "@jupyter-widgets/base",
      "_view_module_version": "1.2.0",
      "_view_name": "LayoutView",
      "align_content": null,
      "align_items": null,
      "align_self": null,
      "border": null,
      "bottom": null,
      "display": null,
      "flex": null,
      "flex_flow": null,
      "grid_area": null,
      "grid_auto_columns": null,
      "grid_auto_flow": null,
      "grid_auto_rows": null,
      "grid_column": null,
      "grid_gap": null,
      "grid_row": null,
      "grid_template_areas": null,
      "grid_template_columns": null,
      "grid_template_rows": null,
      "height": null,
      "justify_content": null,
      "justify_items": null,
      "left": null,
      "margin": null,
      "max_height": null,
      "max_width": null,
      "min_height": null,
      "min_width": null,
      "object_fit": null,
      "object_position": null,
      "order": null,
      "overflow": null,
      "overflow_x": null,
      "overflow_y": null,
      "padding": null,
      "right": null,
      "top": null,
      "visibility": null,
      "width": null
     }
    },
    "995dff9418fc42489c14c0ca364bf4a2": {
     "model_module": "@jupyter-widgets/controls",
     "model_name": "FloatSliderModel",
     "state": {
      "_dom_classes": [],
      "_model_module": "@jupyter-widgets/controls",
      "_model_module_version": "1.5.0",
      "_model_name": "FloatSliderModel",
      "_view_count": null,
      "_view_module": "@jupyter-widgets/controls",
      "_view_module_version": "1.5.0",
      "_view_name": "FloatSliderView",
      "continuous_update": true,
      "description": "Spring Constant : ",
      "description_tooltip": null,
      "disabled": false,
      "layout": "IPY_MODEL_649433d16ece4d369865cba08b15579b",
      "max": 10,
      "min": 0,
      "orientation": "horizontal",
      "readout": true,
      "readout_format": ".2f",
      "step": 0.5,
      "style": "IPY_MODEL_261f315a274d4764a1bf500a1b0b8490",
      "value": 1
     }
    },
    "b2072953a1984564b0ff2d2ab83c1333": {
     "model_module": "@jupyter-widgets/base",
     "model_name": "LayoutModel",
     "state": {
      "_model_module": "@jupyter-widgets/base",
      "_model_module_version": "1.2.0",
      "_model_name": "LayoutModel",
      "_view_count": null,
      "_view_module": "@jupyter-widgets/base",
      "_view_module_version": "1.2.0",
      "_view_name": "LayoutView",
      "align_content": null,
      "align_items": null,
      "align_self": null,
      "border": null,
      "bottom": null,
      "display": null,
      "flex": null,
      "flex_flow": null,
      "grid_area": null,
      "grid_auto_columns": null,
      "grid_auto_flow": null,
      "grid_auto_rows": null,
      "grid_column": null,
      "grid_gap": null,
      "grid_row": null,
      "grid_template_areas": null,
      "grid_template_columns": null,
      "grid_template_rows": null,
      "height": null,
      "justify_content": null,
      "justify_items": null,
      "left": null,
      "margin": null,
      "max_height": null,
      "max_width": null,
      "min_height": null,
      "min_width": null,
      "object_fit": null,
      "object_position": null,
      "order": null,
      "overflow": null,
      "overflow_x": null,
      "overflow_y": null,
      "padding": null,
      "right": null,
      "top": null,
      "visibility": null,
      "width": null
     }
    },
    "c24c25d3139840db8a7d3b3450b60dcf": {
     "model_module": "@jupyter-widgets/base",
     "model_name": "LayoutModel",
     "state": {
      "_model_module": "@jupyter-widgets/base",
      "_model_module_version": "1.2.0",
      "_model_name": "LayoutModel",
      "_view_count": null,
      "_view_module": "@jupyter-widgets/base",
      "_view_module_version": "1.2.0",
      "_view_name": "LayoutView",
      "align_content": null,
      "align_items": null,
      "align_self": null,
      "border": null,
      "bottom": null,
      "display": null,
      "flex": null,
      "flex_flow": null,
      "grid_area": null,
      "grid_auto_columns": null,
      "grid_auto_flow": null,
      "grid_auto_rows": null,
      "grid_column": null,
      "grid_gap": null,
      "grid_row": null,
      "grid_template_areas": null,
      "grid_template_columns": null,
      "grid_template_rows": null,
      "height": null,
      "justify_content": null,
      "justify_items": null,
      "left": null,
      "margin": null,
      "max_height": null,
      "max_width": null,
      "min_height": null,
      "min_width": null,
      "object_fit": null,
      "object_position": null,
      "order": null,
      "overflow": null,
      "overflow_x": null,
      "overflow_y": null,
      "padding": null,
      "right": null,
      "top": null,
      "visibility": null,
      "width": null
     }
    },
    "c7f6dcc80cbe4bcb9aef703259f02d04": {
     "model_module": "@jupyter-widgets/controls",
     "model_name": "FloatSliderModel",
     "state": {
      "_dom_classes": [],
      "_model_module": "@jupyter-widgets/controls",
      "_model_module_version": "1.5.0",
      "_model_name": "FloatSliderModel",
      "_view_count": null,
      "_view_module": "@jupyter-widgets/controls",
      "_view_module_version": "1.5.0",
      "_view_name": "FloatSliderView",
      "continuous_update": true,
      "description": "Initial position from rest (meters) : ",
      "description_tooltip": null,
      "disabled": false,
      "layout": "IPY_MODEL_b2072953a1984564b0ff2d2ab83c1333",
      "max": 10,
      "min": 0,
      "orientation": "horizontal",
      "readout": true,
      "readout_format": ".2f",
      "step": 0.5,
      "style": "IPY_MODEL_1397b57efa3846d381554666b6475dcb",
      "value": 1
     }
    }
   }
  }
 },
 "nbformat": 4,
 "nbformat_minor": 1
}
